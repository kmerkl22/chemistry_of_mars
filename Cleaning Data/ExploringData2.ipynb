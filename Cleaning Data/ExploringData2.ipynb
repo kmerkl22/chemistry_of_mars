{
 "cells": [
  {
   "cell_type": "code",
   "execution_count": 161,
   "metadata": {},
   "outputs": [
    {
     "name": "stdout",
     "output_type": "stream",
     "text": [
      "Note: you may need to restart the kernel to use updated packages.\n"
     ]
    }
   ],
   "source": [
    "pip -q install ISLP"
   ]
  },
  {
   "cell_type": "code",
   "execution_count": 162,
   "metadata": {},
   "outputs": [
    {
     "name": "stdout",
     "output_type": "stream",
     "text": [
      "Note: you may need to restart the kernel to use updated packages.\n"
     ]
    }
   ],
   "source": [
    "pip -q install l0bnb"
   ]
  },
  {
   "cell_type": "code",
   "execution_count": 163,
   "metadata": {},
   "outputs": [],
   "source": [
    "import numpy as np\n",
    "import pandas as pd\n",
    "from matplotlib.pyplot import subplots\n",
    "from statsmodels.api import OLS\n",
    "import sklearn.model_selection as skm\n",
    "import sklearn.linear_model as skl\n",
    "from sklearn.preprocessing import StandardScaler\n",
    "from ISLP import load_data\n",
    "from ISLP.models import ModelSpec as MS\n",
    "from functools import partial\n",
    "from sklearn.pipeline import Pipeline\n",
    "from sklearn.decomposition import PCA\n",
    "from sklearn.cross_decomposition import PLSRegression\n",
    "from ISLP.models import \\\n",
    "     (Stepwise,\n",
    "      sklearn_selected,\n",
    "      sklearn_selection_path)\n",
    "# from l0bnb import fit_path\n"
   ]
  },
  {
   "cell_type": "code",
   "execution_count": 164,
   "metadata": {},
   "outputs": [
    {
     "data": {
      "text/html": [
       "<div>\n",
       "<style scoped>\n",
       "    .dataframe tbody tr th:only-of-type {\n",
       "        vertical-align: middle;\n",
       "    }\n",
       "\n",
       "    .dataframe tbody tr th {\n",
       "        vertical-align: top;\n",
       "    }\n",
       "\n",
       "    .dataframe thead th {\n",
       "        text-align: right;\n",
       "    }\n",
       "</style>\n",
       "<table border=\"1\" class=\"dataframe\">\n",
       "  <thead>\n",
       "    <tr style=\"text-align: right;\">\n",
       "      <th></th>\n",
       "      <th>sample_id</th>\n",
       "      <th>split</th>\n",
       "      <th>instrument_type</th>\n",
       "      <th>features_path</th>\n",
       "      <th>features_md5_hash</th>\n",
       "    </tr>\n",
       "  </thead>\n",
       "  <tbody>\n",
       "    <tr>\n",
       "      <th>0</th>\n",
       "      <td>S0000</td>\n",
       "      <td>train</td>\n",
       "      <td>commercial</td>\n",
       "      <td>train_features/S0000.csv</td>\n",
       "      <td>017b9a71a702e81a828e6242aa15f049</td>\n",
       "    </tr>\n",
       "    <tr>\n",
       "      <th>1</th>\n",
       "      <td>S0001</td>\n",
       "      <td>train</td>\n",
       "      <td>commercial</td>\n",
       "      <td>train_features/S0001.csv</td>\n",
       "      <td>0d09840214054d254bd49436c6a6f315</td>\n",
       "    </tr>\n",
       "    <tr>\n",
       "      <th>2</th>\n",
       "      <td>S0002</td>\n",
       "      <td>train</td>\n",
       "      <td>commercial</td>\n",
       "      <td>train_features/S0002.csv</td>\n",
       "      <td>3f58b3c9b001bfed6ed4e4f757083e09</td>\n",
       "    </tr>\n",
       "    <tr>\n",
       "      <th>3</th>\n",
       "      <td>S0003</td>\n",
       "      <td>train</td>\n",
       "      <td>commercial</td>\n",
       "      <td>train_features/S0003.csv</td>\n",
       "      <td>e9a12f96114a2fda60b36f4c0f513fb1</td>\n",
       "    </tr>\n",
       "    <tr>\n",
       "      <th>4</th>\n",
       "      <td>S0004</td>\n",
       "      <td>train</td>\n",
       "      <td>commercial</td>\n",
       "      <td>train_features/S0004.csv</td>\n",
       "      <td>b67603d3931897bfa796ac42cc16de78</td>\n",
       "    </tr>\n",
       "  </tbody>\n",
       "</table>\n",
       "</div>"
      ],
      "text/plain": [
       "  sample_id  split instrument_type             features_path  \\\n",
       "0     S0000  train      commercial  train_features/S0000.csv   \n",
       "1     S0001  train      commercial  train_features/S0001.csv   \n",
       "2     S0002  train      commercial  train_features/S0002.csv   \n",
       "3     S0003  train      commercial  train_features/S0003.csv   \n",
       "4     S0004  train      commercial  train_features/S0004.csv   \n",
       "\n",
       "                  features_md5_hash  \n",
       "0  017b9a71a702e81a828e6242aa15f049  \n",
       "1  0d09840214054d254bd49436c6a6f315  \n",
       "2  3f58b3c9b001bfed6ed4e4f757083e09  \n",
       "3  e9a12f96114a2fda60b36f4c0f513fb1  \n",
       "4  b67603d3931897bfa796ac42cc16de78  "
      ]
     },
     "execution_count": 164,
     "metadata": {},
     "output_type": "execute_result"
    }
   ],
   "source": [
    "metadata = pd.read_csv('../Data/metadata.csv')\n",
    "\n",
    "metadata.head()"
   ]
  },
  {
   "cell_type": "markdown",
   "metadata": {},
   "source": [
    "### Labels\n",
    "The files whose title contains 'labels' are presumably used to train and validate the model. They tell you what a given sample actually consists of. The measurements associated to each sample are contained in the features folders. We combine the labels files into one and try to understand their properties."
   ]
  },
  {
   "cell_type": "code",
   "execution_count": 165,
   "metadata": {},
   "outputs": [],
   "source": [
    "train_labels = pd.read_csv('../Data/train_labels.csv')\n",
    "supplemental = pd.read_csv('../Data/supplemental_metadata.csv')\n",
    "val_labels = pd.read_csv('../Data/val_labels.csv')\n",
    "train_labels_2 = pd.read_csv('../Data/train_labels2.csv')\n",
    "val_labels2 = pd.read_csv('../Data/val_labels2.csv')\n",
    "submission_format = pd.read_csv(\"../Data/submission_format.csv\")\n"
   ]
  },
  {
   "cell_type": "markdown",
   "metadata": {},
   "source": [
    "We will check that val_labels and val_labels_2 are the same:"
   ]
  },
  {
   "cell_type": "code",
   "execution_count": 166,
   "metadata": {},
   "outputs": [
    {
     "data": {
      "text/plain": [
       "True"
      ]
     },
     "execution_count": 166,
     "metadata": {},
     "output_type": "execute_result"
    }
   ],
   "source": [
    "val_labels.equals(val_labels2)"
   ]
  },
  {
   "cell_type": "markdown",
   "metadata": {},
   "source": [
    "Same for train_labels and train_labels_2"
   ]
  },
  {
   "cell_type": "code",
   "execution_count": 167,
   "metadata": {},
   "outputs": [
    {
     "data": {
      "text/plain": [
       "True"
      ]
     },
     "execution_count": 167,
     "metadata": {},
     "output_type": "execute_result"
    }
   ],
   "source": [
    "train_labels.equals(train_labels_2)"
   ]
  },
  {
   "cell_type": "markdown",
   "metadata": {},
   "source": [
    "So we may ignore the '2' versions. We join the two files."
   ]
  },
  {
   "cell_type": "code",
   "execution_count": 168,
   "metadata": {},
   "outputs": [],
   "source": [
    "frames = [train_labels,val_labels]\n",
    "combined_labels = pd.concat(frames)"
   ]
  },
  {
   "cell_type": "markdown",
   "metadata": {},
   "source": [
    "Check that there are no duplicates"
   ]
  },
  {
   "cell_type": "code",
   "execution_count": 169,
   "metadata": {},
   "outputs": [],
   "source": [
    "for i in combined_labels.duplicated(subset='sample_id',keep = 'first'):\n",
    "    if i == True:\n",
    "        print(\"found duplicate\")"
   ]
  },
  {
   "cell_type": "markdown",
   "metadata": {},
   "source": [
    "So it appears that there aren't any."
   ]
  },
  {
   "cell_type": "code",
   "execution_count": 170,
   "metadata": {},
   "outputs": [
    {
     "name": "stdout",
     "output_type": "stream",
     "text": [
      "The shape of the combined labels files is (1047, 11)\n",
      "The last 5 lines of the combined file are\n"
     ]
    },
    {
     "data": {
      "text/html": [
       "<div>\n",
       "<style scoped>\n",
       "    .dataframe tbody tr th:only-of-type {\n",
       "        vertical-align: middle;\n",
       "    }\n",
       "\n",
       "    .dataframe tbody tr th {\n",
       "        vertical-align: top;\n",
       "    }\n",
       "\n",
       "    .dataframe thead th {\n",
       "        text-align: right;\n",
       "    }\n",
       "</style>\n",
       "<table border=\"1\" class=\"dataframe\">\n",
       "  <thead>\n",
       "    <tr style=\"text-align: right;\">\n",
       "      <th></th>\n",
       "      <th>sample_id</th>\n",
       "      <th>basalt</th>\n",
       "      <th>carbonate</th>\n",
       "      <th>chloride</th>\n",
       "      <th>iron_oxide</th>\n",
       "      <th>oxalate</th>\n",
       "      <th>oxychlorine</th>\n",
       "      <th>phyllosilicate</th>\n",
       "      <th>silicate</th>\n",
       "      <th>sulfate</th>\n",
       "      <th>sulfide</th>\n",
       "    </tr>\n",
       "  </thead>\n",
       "  <tbody>\n",
       "    <tr>\n",
       "      <th>288</th>\n",
       "      <td>S1054</td>\n",
       "      <td>0</td>\n",
       "      <td>0</td>\n",
       "      <td>0</td>\n",
       "      <td>0</td>\n",
       "      <td>0</td>\n",
       "      <td>0</td>\n",
       "      <td>0</td>\n",
       "      <td>0</td>\n",
       "      <td>0</td>\n",
       "      <td>0</td>\n",
       "    </tr>\n",
       "    <tr>\n",
       "      <th>289</th>\n",
       "      <td>S1055</td>\n",
       "      <td>0</td>\n",
       "      <td>0</td>\n",
       "      <td>0</td>\n",
       "      <td>0</td>\n",
       "      <td>0</td>\n",
       "      <td>0</td>\n",
       "      <td>0</td>\n",
       "      <td>1</td>\n",
       "      <td>0</td>\n",
       "      <td>0</td>\n",
       "    </tr>\n",
       "    <tr>\n",
       "      <th>290</th>\n",
       "      <td>S1056</td>\n",
       "      <td>0</td>\n",
       "      <td>0</td>\n",
       "      <td>0</td>\n",
       "      <td>0</td>\n",
       "      <td>1</td>\n",
       "      <td>0</td>\n",
       "      <td>0</td>\n",
       "      <td>0</td>\n",
       "      <td>0</td>\n",
       "      <td>0</td>\n",
       "    </tr>\n",
       "    <tr>\n",
       "      <th>291</th>\n",
       "      <td>S1057</td>\n",
       "      <td>0</td>\n",
       "      <td>1</td>\n",
       "      <td>0</td>\n",
       "      <td>0</td>\n",
       "      <td>0</td>\n",
       "      <td>0</td>\n",
       "      <td>0</td>\n",
       "      <td>0</td>\n",
       "      <td>0</td>\n",
       "      <td>0</td>\n",
       "    </tr>\n",
       "    <tr>\n",
       "      <th>292</th>\n",
       "      <td>S1058</td>\n",
       "      <td>0</td>\n",
       "      <td>0</td>\n",
       "      <td>0</td>\n",
       "      <td>0</td>\n",
       "      <td>0</td>\n",
       "      <td>0</td>\n",
       "      <td>1</td>\n",
       "      <td>0</td>\n",
       "      <td>0</td>\n",
       "      <td>0</td>\n",
       "    </tr>\n",
       "  </tbody>\n",
       "</table>\n",
       "</div>"
      ],
      "text/plain": [
       "    sample_id  basalt  carbonate  chloride  iron_oxide  oxalate  oxychlorine  \\\n",
       "288     S1054       0          0         0           0        0            0   \n",
       "289     S1055       0          0         0           0        0            0   \n",
       "290     S1056       0          0         0           0        1            0   \n",
       "291     S1057       0          1         0           0        0            0   \n",
       "292     S1058       0          0         0           0        0            0   \n",
       "\n",
       "     phyllosilicate  silicate  sulfate  sulfide  \n",
       "288               0         0        0        0  \n",
       "289               0         1        0        0  \n",
       "290               0         0        0        0  \n",
       "291               0         0        0        0  \n",
       "292               1         0        0        0  "
      ]
     },
     "execution_count": 170,
     "metadata": {},
     "output_type": "execute_result"
    }
   ],
   "source": [
    "print(\"The shape of the combined labels files is\",combined_labels.shape)\n",
    "\n",
    "n = 5\n",
    "\n",
    "print(\"The last\",n,\"lines of the combined file are\")\n",
    "combined_labels.tail(n)"
   ]
  },
  {
   "cell_type": "markdown",
   "metadata": {},
   "source": [
    "Note that the sample at the end is marked as 'S1058' but we only have 1047 rows, so not all numbers between S0000 and S1058 are here."
   ]
  },
  {
   "cell_type": "code",
   "execution_count": 171,
   "metadata": {},
   "outputs": [
    {
     "name": "stdout",
     "output_type": "stream",
     "text": [
      "(210, 11)\n"
     ]
    }
   ],
   "source": [
    "from sklearn.model_selection import train_test_split\n",
    "labels_train, labels_test = train_test_split(combined_labels, test_size=.2,random_state=42,shuffle=True)\n",
    "\n",
    "print (labels_test.shape)"
   ]
  },
  {
   "cell_type": "code",
   "execution_count": 172,
   "metadata": {},
   "outputs": [
    {
     "name": "stdout",
     "output_type": "stream",
     "text": [
      "The numbers of nulls in labels_test is 0\n",
      "The numbers of nulls in labels_train is 0\n"
     ]
    }
   ],
   "source": [
    "print (\"The numbers of nulls in labels_test is\",labels_test.isnull().sum().sum())\n",
    "print (\"The numbers of nulls in labels_train is\",labels_train.isnull().sum().sum())\n",
    "\n"
   ]
  },
  {
   "cell_type": "markdown",
   "metadata": {},
   "source": [
    "### The actual measurement files\n",
    "We load one of the measurement files just to see what is in there. "
   ]
  },
  {
   "cell_type": "code",
   "execution_count": 173,
   "metadata": {},
   "outputs": [],
   "source": [
    "S0749 = pd.read_csv('../Data/train_features/S0749.csv')"
   ]
  },
  {
   "cell_type": "markdown",
   "metadata": {},
   "source": [
    "Then we check if there are null values"
   ]
  },
  {
   "cell_type": "code",
   "execution_count": 174,
   "metadata": {},
   "outputs": [
    {
     "data": {
      "text/plain": [
       "time         0\n",
       "temp         0\n",
       "m/z          0\n",
       "abundance    0\n",
       "dtype: int64"
      ]
     },
     "execution_count": 174,
     "metadata": {},
     "output_type": "execute_result"
    }
   ],
   "source": [
    "S0749.isnull().sum(axis = 0)"
   ]
  },
  {
   "cell_type": "markdown",
   "metadata": {},
   "source": [
    "So there aren't any"
   ]
  },
  {
   "cell_type": "markdown",
   "metadata": {},
   "source": [
    "#### Loading sample files\n",
    "The following code attempts to load various files into a Pandas series consisting of dataframes. It runs, although with some warnings that I do not quite understand at the moment."
   ]
  },
  {
   "cell_type": "code",
   "execution_count": 175,
   "metadata": {},
   "outputs": [
    {
     "name": "stderr",
     "output_type": "stream",
     "text": [
      "/var/folders/sb/bm5l_dgs6vg61tdy4phf0vcm0000gn/T/ipykernel_71750/1802602168.py:15: FutureWarning: Series.__setitem__ treating keys as positions is deprecated. In a future version, integer keys will always be treated as labels (consistent with DataFrame behavior). To set a value by position, use `ser.iloc[pos] = value`\n",
      "  df_collection[i] = pd.read_csv(\"../Data/train_features/\"+str(sample_id_no)+\".csv\")\n",
      "/var/folders/sb/bm5l_dgs6vg61tdy4phf0vcm0000gn/T/ipykernel_71750/1802602168.py:15: FutureWarning: Setting an item of incompatible dtype is deprecated and will raise an error in a future version of pandas. Value '          time     temp   m/z     abundance\n",
      "0         0.00   30.005   0.0  1.359419e-10\n",
      "1         0.00   30.005   1.0  2.143780e-10\n",
      "2         0.00   30.005   2.0  5.823261e-11\n",
      "3         0.00   30.005   3.0  1.288442e-10\n",
      "4         0.00   30.005   4.0  1.195885e-07\n",
      "...        ...      ...   ...           ...\n",
      "31895  1657.15  999.651  95.0  2.310026e-13\n",
      "31896  1657.15  999.651  96.0  2.573921e-13\n",
      "31897  1657.15  999.651  97.0  2.233591e-13\n",
      "31898  1657.15  999.651  98.0  2.203500e-13\n",
      "31899  1657.15  999.651  99.0  2.261479e-13\n",
      "\n",
      "[31900 rows x 4 columns]' has dtype incompatible with int64, please explicitly cast to a compatible dtype first.\n",
      "  df_collection[i] = pd.read_csv(\"../Data/train_features/\"+str(sample_id_no)+\".csv\")\n",
      "/var/folders/sb/bm5l_dgs6vg61tdy4phf0vcm0000gn/T/ipykernel_71750/1802602168.py:17: FutureWarning: Series.__setitem__ treating keys as positions is deprecated. In a future version, integer keys will always be treated as labels (consistent with DataFrame behavior). To set a value by position, use `ser.iloc[pos] = value`\n",
      "  df_collection[i] = pd.read_csv(\"../Data/val_features/\"+str(sample_id_no)+\".csv\")\n",
      "/var/folders/sb/bm5l_dgs6vg61tdy4phf0vcm0000gn/T/ipykernel_71750/1802602168.py:15: FutureWarning: Series.__setitem__ treating keys as positions is deprecated. In a future version, integer keys will always be treated as labels (consistent with DataFrame behavior). To set a value by position, use `ser.iloc[pos] = value`\n",
      "  df_collection[i] = pd.read_csv(\"../Data/train_features/\"+str(sample_id_no)+\".csv\")\n",
      "/var/folders/sb/bm5l_dgs6vg61tdy4phf0vcm0000gn/T/ipykernel_71750/1802602168.py:15: FutureWarning: Series.__setitem__ treating keys as positions is deprecated. In a future version, integer keys will always be treated as labels (consistent with DataFrame behavior). To set a value by position, use `ser.iloc[pos] = value`\n",
      "  df_collection[i] = pd.read_csv(\"../Data/train_features/\"+str(sample_id_no)+\".csv\")\n",
      "/var/folders/sb/bm5l_dgs6vg61tdy4phf0vcm0000gn/T/ipykernel_71750/1802602168.py:17: FutureWarning: Series.__setitem__ treating keys as positions is deprecated. In a future version, integer keys will always be treated as labels (consistent with DataFrame behavior). To set a value by position, use `ser.iloc[pos] = value`\n",
      "  df_collection[i] = pd.read_csv(\"../Data/val_features/\"+str(sample_id_no)+\".csv\")\n",
      "/var/folders/sb/bm5l_dgs6vg61tdy4phf0vcm0000gn/T/ipykernel_71750/1802602168.py:15: FutureWarning: Series.__setitem__ treating keys as positions is deprecated. In a future version, integer keys will always be treated as labels (consistent with DataFrame behavior). To set a value by position, use `ser.iloc[pos] = value`\n",
      "  df_collection[i] = pd.read_csv(\"../Data/train_features/\"+str(sample_id_no)+\".csv\")\n",
      "/var/folders/sb/bm5l_dgs6vg61tdy4phf0vcm0000gn/T/ipykernel_71750/1802602168.py:15: FutureWarning: Series.__setitem__ treating keys as positions is deprecated. In a future version, integer keys will always be treated as labels (consistent with DataFrame behavior). To set a value by position, use `ser.iloc[pos] = value`\n",
      "  df_collection[i] = pd.read_csv(\"../Data/train_features/\"+str(sample_id_no)+\".csv\")\n",
      "/var/folders/sb/bm5l_dgs6vg61tdy4phf0vcm0000gn/T/ipykernel_71750/1802602168.py:17: FutureWarning: Series.__setitem__ treating keys as positions is deprecated. In a future version, integer keys will always be treated as labels (consistent with DataFrame behavior). To set a value by position, use `ser.iloc[pos] = value`\n",
      "  df_collection[i] = pd.read_csv(\"../Data/val_features/\"+str(sample_id_no)+\".csv\")\n",
      "/var/folders/sb/bm5l_dgs6vg61tdy4phf0vcm0000gn/T/ipykernel_71750/1802602168.py:15: FutureWarning: Series.__setitem__ treating keys as positions is deprecated. In a future version, integer keys will always be treated as labels (consistent with DataFrame behavior). To set a value by position, use `ser.iloc[pos] = value`\n",
      "  df_collection[i] = pd.read_csv(\"../Data/train_features/\"+str(sample_id_no)+\".csv\")\n",
      "/var/folders/sb/bm5l_dgs6vg61tdy4phf0vcm0000gn/T/ipykernel_71750/1802602168.py:15: FutureWarning: Series.__setitem__ treating keys as positions is deprecated. In a future version, integer keys will always be treated as labels (consistent with DataFrame behavior). To set a value by position, use `ser.iloc[pos] = value`\n",
      "  df_collection[i] = pd.read_csv(\"../Data/train_features/\"+str(sample_id_no)+\".csv\")\n"
     ]
    },
    {
     "data": {
      "text/html": [
       "<div>\n",
       "<style scoped>\n",
       "    .dataframe tbody tr th:only-of-type {\n",
       "        vertical-align: middle;\n",
       "    }\n",
       "\n",
       "    .dataframe tbody tr th {\n",
       "        vertical-align: top;\n",
       "    }\n",
       "\n",
       "    .dataframe thead th {\n",
       "        text-align: right;\n",
       "    }\n",
       "</style>\n",
       "<table border=\"1\" class=\"dataframe\">\n",
       "  <thead>\n",
       "    <tr style=\"text-align: right;\">\n",
       "      <th></th>\n",
       "      <th>time</th>\n",
       "      <th>temp</th>\n",
       "      <th>m/z</th>\n",
       "      <th>abundance</th>\n",
       "    </tr>\n",
       "  </thead>\n",
       "  <tbody>\n",
       "    <tr>\n",
       "      <th>0</th>\n",
       "      <td>0.0</td>\n",
       "      <td>29.965</td>\n",
       "      <td>0.0</td>\n",
       "      <td>6.142533e-09</td>\n",
       "    </tr>\n",
       "    <tr>\n",
       "      <th>1</th>\n",
       "      <td>0.0</td>\n",
       "      <td>29.965</td>\n",
       "      <td>1.0</td>\n",
       "      <td>9.506487e-09</td>\n",
       "    </tr>\n",
       "    <tr>\n",
       "      <th>2</th>\n",
       "      <td>0.0</td>\n",
       "      <td>29.965</td>\n",
       "      <td>2.0</td>\n",
       "      <td>3.685148e-09</td>\n",
       "    </tr>\n",
       "    <tr>\n",
       "      <th>3</th>\n",
       "      <td>0.0</td>\n",
       "      <td>29.965</td>\n",
       "      <td>3.0</td>\n",
       "      <td>6.109329e-09</td>\n",
       "    </tr>\n",
       "    <tr>\n",
       "      <th>4</th>\n",
       "      <td>0.0</td>\n",
       "      <td>29.965</td>\n",
       "      <td>4.0</td>\n",
       "      <td>4.062397e-07</td>\n",
       "    </tr>\n",
       "    <tr>\n",
       "      <th>5</th>\n",
       "      <td>0.0</td>\n",
       "      <td>29.965</td>\n",
       "      <td>5.0</td>\n",
       "      <td>5.997939e-10</td>\n",
       "    </tr>\n",
       "    <tr>\n",
       "      <th>6</th>\n",
       "      <td>0.0</td>\n",
       "      <td>29.965</td>\n",
       "      <td>6.0</td>\n",
       "      <td>8.601567e-12</td>\n",
       "    </tr>\n",
       "    <tr>\n",
       "      <th>7</th>\n",
       "      <td>0.0</td>\n",
       "      <td>29.965</td>\n",
       "      <td>7.0</td>\n",
       "      <td>9.934129e-13</td>\n",
       "    </tr>\n",
       "    <tr>\n",
       "      <th>8</th>\n",
       "      <td>0.0</td>\n",
       "      <td>29.965</td>\n",
       "      <td>8.0</td>\n",
       "      <td>3.433641e-12</td>\n",
       "    </tr>\n",
       "    <tr>\n",
       "      <th>9</th>\n",
       "      <td>0.0</td>\n",
       "      <td>29.965</td>\n",
       "      <td>9.0</td>\n",
       "      <td>5.151772e-13</td>\n",
       "    </tr>\n",
       "  </tbody>\n",
       "</table>\n",
       "</div>"
      ],
      "text/plain": [
       "   time    temp  m/z     abundance\n",
       "0   0.0  29.965  0.0  6.142533e-09\n",
       "1   0.0  29.965  1.0  9.506487e-09\n",
       "2   0.0  29.965  2.0  3.685148e-09\n",
       "3   0.0  29.965  3.0  6.109329e-09\n",
       "4   0.0  29.965  4.0  4.062397e-07\n",
       "5   0.0  29.965  5.0  5.997939e-10\n",
       "6   0.0  29.965  6.0  8.601567e-12\n",
       "7   0.0  29.965  7.0  9.934129e-13\n",
       "8   0.0  29.965  8.0  3.433641e-12\n",
       "9   0.0  29.965  9.0  5.151772e-13"
      ]
     },
     "execution_count": 175,
     "metadata": {},
     "output_type": "execute_result"
    }
   ],
   "source": [
    "# Choose the number of samples you want to load. It might make sense to not load all of them at once if there are possible memory issues.\n",
    "num_samples = 10\n",
    "\n",
    "# Create a series, which intially consists of integers 0,..,num_samples and is indexed by the names of the samples.\n",
    "df_collection = pd.Series(range(num_samples), index = labels_train.sample_id.values[0:num_samples])\n",
    "\n",
    "# The index i corresponds to the i-th sample\n",
    "\n",
    "for i,sample_id_no in enumerate(labels_train.sample_id.head(num_samples)):\n",
    "      \n",
    "    # There are two folders containing samples named as SXXXX, presumably corresponding to the inital splitting in train/test. \n",
    "    # This code first checks the first folder and then the second.\n",
    "    # It might make sense to combine both of them into one and avoid the \"try\" command\n",
    "    try:\n",
    "        df_collection[i] = pd.read_csv(\"../Data/train_features/\"+str(sample_id_no)+\".csv\")\n",
    "    except:\n",
    "        df_collection[i] = pd.read_csv(\"../Data/val_features/\"+str(sample_id_no)+\".csv\")\n",
    "\n",
    "# Check the top few lines of, say, the 3rd dataframe\n",
    "df_collection.iloc[3].head(10)"
   ]
  },
  {
   "cell_type": "code",
   "execution_count": null,
   "metadata": {},
   "outputs": [],
   "source": []
  }
 ],
 "metadata": {
  "kernelspec": {
   "display_name": "erdos_fall_2024",
   "language": "python",
   "name": "python3"
  },
  "language_info": {
   "codemirror_mode": {
    "name": "ipython",
    "version": 3
   },
   "file_extension": ".py",
   "mimetype": "text/x-python",
   "name": "python",
   "nbconvert_exporter": "python",
   "pygments_lexer": "ipython3",
   "version": "3.12.5"
  }
 },
 "nbformat": 4,
 "nbformat_minor": 2
}
