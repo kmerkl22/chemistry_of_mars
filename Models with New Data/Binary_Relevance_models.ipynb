{
 "cells": [
  {
   "cell_type": "markdown",
   "metadata": {},
   "source": [
    "# Binary Relevance"
   ]
  },
  {
   "cell_type": "markdown",
   "metadata": {},
   "source": [
    "In this notebook, I will use the `BinaryRelevance()` from the `scikit-multilearn`.\n",
    "\n",
    "Note: This is one of the most basic approaches to multi-label classification, it ignores relationships between labels."
   ]
  },
  {
   "cell_type": "code",
   "execution_count": 64,
   "metadata": {},
   "outputs": [],
   "source": [
    "# Import important libraries\n",
    "import numpy as np\n",
    "import pandas as pd\n",
    "import matplotlib.pyplot as plt\n",
    "import seaborn as sns\n",
    "from sklearn.model_selection import train_test_split\n",
    "from sklearn.preprocessing import StandardScaler\n",
    "from sklearn.metrics import accuracy_score, hamming_loss, f1_score, confusion_matrix\n",
    "from skmultilearn.problem_transform import BinaryRelevance\n",
    "from sklearn.svm import SVC\n",
    "from sklearn.naive_bayes import GaussianNB\n",
    "from sklearn.linear_model import LogisticRegression\n",
    "from sklearn.ensemble import RandomForestClassifier\n",
    "from sklearn.neighbors import KNeighborsClassifier\n",
    "from sklearn.metrics import classification_report"
   ]
  },
  {
   "cell_type": "markdown",
   "metadata": {},
   "source": [
    "## Loading the data"
   ]
  },
  {
   "cell_type": "code",
   "execution_count": 2,
   "metadata": {},
   "outputs": [],
   "source": [
    "import os\n",
    "# Set the working directory\n",
    "os.chdir(r'/Users/saram/Desktop/Erdos_Institute/project/Data')"
   ]
  },
  {
   "cell_type": "code",
   "execution_count": 3,
   "metadata": {},
   "outputs": [
    {
     "data": {
      "text/html": [
       "<div>\n",
       "<style scoped>\n",
       "    .dataframe tbody tr th:only-of-type {\n",
       "        vertical-align: middle;\n",
       "    }\n",
       "\n",
       "    .dataframe tbody tr th {\n",
       "        vertical-align: top;\n",
       "    }\n",
       "\n",
       "    .dataframe thead th {\n",
       "        text-align: right;\n",
       "    }\n",
       "</style>\n",
       "<table border=\"1\" class=\"dataframe\">\n",
       "  <thead>\n",
       "    <tr style=\"text-align: right;\">\n",
       "      <th></th>\n",
       "      <th>sample_id</th>\n",
       "      <th>basalt</th>\n",
       "      <th>carbonate</th>\n",
       "      <th>chloride</th>\n",
       "      <th>iron_oxide</th>\n",
       "      <th>oxalate</th>\n",
       "      <th>oxychlorine</th>\n",
       "      <th>phyllosilicate</th>\n",
       "      <th>silicate</th>\n",
       "      <th>sulfate</th>\n",
       "      <th>...</th>\n",
       "      <th>2.12</th>\n",
       "      <th>0.13</th>\n",
       "      <th>1.13</th>\n",
       "      <th>2.13</th>\n",
       "      <th>0.14</th>\n",
       "      <th>1.14</th>\n",
       "      <th>2.14</th>\n",
       "      <th>0.15</th>\n",
       "      <th>1.15</th>\n",
       "      <th>2.15</th>\n",
       "    </tr>\n",
       "    <tr>\n",
       "      <th>sample_id</th>\n",
       "      <th></th>\n",
       "      <th></th>\n",
       "      <th></th>\n",
       "      <th></th>\n",
       "      <th></th>\n",
       "      <th></th>\n",
       "      <th></th>\n",
       "      <th></th>\n",
       "      <th></th>\n",
       "      <th></th>\n",
       "      <th></th>\n",
       "      <th></th>\n",
       "      <th></th>\n",
       "      <th></th>\n",
       "      <th></th>\n",
       "      <th></th>\n",
       "      <th></th>\n",
       "      <th></th>\n",
       "      <th></th>\n",
       "      <th></th>\n",
       "      <th></th>\n",
       "    </tr>\n",
       "  </thead>\n",
       "  <tbody>\n",
       "    <tr>\n",
       "      <th>S0000</th>\n",
       "      <td>S0000</td>\n",
       "      <td>0</td>\n",
       "      <td>0</td>\n",
       "      <td>0</td>\n",
       "      <td>0</td>\n",
       "      <td>0</td>\n",
       "      <td>0</td>\n",
       "      <td>0</td>\n",
       "      <td>0</td>\n",
       "      <td>1</td>\n",
       "      <td>...</td>\n",
       "      <td>-0.09684</td>\n",
       "      <td>-0.983755</td>\n",
       "      <td>-0.177357</td>\n",
       "      <td>-0.178857</td>\n",
       "      <td>-0.559546</td>\n",
       "      <td>-0.15498</td>\n",
       "      <td>-0.039571</td>\n",
       "      <td>-0.362594</td>\n",
       "      <td>2.270000e-15</td>\n",
       "      <td>1.300000e-15</td>\n",
       "    </tr>\n",
       "    <tr>\n",
       "      <th>S0001</th>\n",
       "      <td>S0001</td>\n",
       "      <td>0</td>\n",
       "      <td>1</td>\n",
       "      <td>0</td>\n",
       "      <td>0</td>\n",
       "      <td>0</td>\n",
       "      <td>0</td>\n",
       "      <td>0</td>\n",
       "      <td>0</td>\n",
       "      <td>0</td>\n",
       "      <td>...</td>\n",
       "      <td>-0.09684</td>\n",
       "      <td>-0.983755</td>\n",
       "      <td>-0.177357</td>\n",
       "      <td>-0.178857</td>\n",
       "      <td>-0.559546</td>\n",
       "      <td>-0.15498</td>\n",
       "      <td>-0.039571</td>\n",
       "      <td>-0.362594</td>\n",
       "      <td>2.270000e-15</td>\n",
       "      <td>1.300000e-15</td>\n",
       "    </tr>\n",
       "    <tr>\n",
       "      <th>S0002</th>\n",
       "      <td>S0002</td>\n",
       "      <td>0</td>\n",
       "      <td>0</td>\n",
       "      <td>0</td>\n",
       "      <td>0</td>\n",
       "      <td>0</td>\n",
       "      <td>1</td>\n",
       "      <td>0</td>\n",
       "      <td>0</td>\n",
       "      <td>0</td>\n",
       "      <td>...</td>\n",
       "      <td>-0.09684</td>\n",
       "      <td>-0.983755</td>\n",
       "      <td>-0.177357</td>\n",
       "      <td>-0.178857</td>\n",
       "      <td>-0.559546</td>\n",
       "      <td>-0.15498</td>\n",
       "      <td>-0.039571</td>\n",
       "      <td>-0.362594</td>\n",
       "      <td>2.270000e-15</td>\n",
       "      <td>1.300000e-15</td>\n",
       "    </tr>\n",
       "    <tr>\n",
       "      <th>S0003</th>\n",
       "      <td>S0003</td>\n",
       "      <td>0</td>\n",
       "      <td>1</td>\n",
       "      <td>0</td>\n",
       "      <td>1</td>\n",
       "      <td>0</td>\n",
       "      <td>0</td>\n",
       "      <td>0</td>\n",
       "      <td>0</td>\n",
       "      <td>1</td>\n",
       "      <td>...</td>\n",
       "      <td>-0.09684</td>\n",
       "      <td>-0.983755</td>\n",
       "      <td>-0.177357</td>\n",
       "      <td>-0.178857</td>\n",
       "      <td>-0.559546</td>\n",
       "      <td>-0.15498</td>\n",
       "      <td>-0.039571</td>\n",
       "      <td>-0.362594</td>\n",
       "      <td>2.270000e-15</td>\n",
       "      <td>1.300000e-15</td>\n",
       "    </tr>\n",
       "    <tr>\n",
       "      <th>S0004</th>\n",
       "      <td>S0004</td>\n",
       "      <td>0</td>\n",
       "      <td>0</td>\n",
       "      <td>0</td>\n",
       "      <td>1</td>\n",
       "      <td>0</td>\n",
       "      <td>1</td>\n",
       "      <td>1</td>\n",
       "      <td>0</td>\n",
       "      <td>0</td>\n",
       "      <td>...</td>\n",
       "      <td>-0.09684</td>\n",
       "      <td>-0.983755</td>\n",
       "      <td>-0.177357</td>\n",
       "      <td>-0.178857</td>\n",
       "      <td>-0.559546</td>\n",
       "      <td>-0.15498</td>\n",
       "      <td>-0.039571</td>\n",
       "      <td>-0.362594</td>\n",
       "      <td>2.270000e-15</td>\n",
       "      <td>1.300000e-15</td>\n",
       "    </tr>\n",
       "    <tr>\n",
       "      <th>...</th>\n",
       "      <td>...</td>\n",
       "      <td>...</td>\n",
       "      <td>...</td>\n",
       "      <td>...</td>\n",
       "      <td>...</td>\n",
       "      <td>...</td>\n",
       "      <td>...</td>\n",
       "      <td>...</td>\n",
       "      <td>...</td>\n",
       "      <td>...</td>\n",
       "      <td>...</td>\n",
       "      <td>...</td>\n",
       "      <td>...</td>\n",
       "      <td>...</td>\n",
       "      <td>...</td>\n",
       "      <td>...</td>\n",
       "      <td>...</td>\n",
       "      <td>...</td>\n",
       "      <td>...</td>\n",
       "      <td>...</td>\n",
       "      <td>...</td>\n",
       "    </tr>\n",
       "    <tr>\n",
       "      <th>S0749</th>\n",
       "      <td>S0749</td>\n",
       "      <td>0</td>\n",
       "      <td>0</td>\n",
       "      <td>0</td>\n",
       "      <td>0</td>\n",
       "      <td>0</td>\n",
       "      <td>0</td>\n",
       "      <td>0</td>\n",
       "      <td>0</td>\n",
       "      <td>0</td>\n",
       "      <td>...</td>\n",
       "      <td>-0.09684</td>\n",
       "      <td>-0.983755</td>\n",
       "      <td>-0.177357</td>\n",
       "      <td>-0.178857</td>\n",
       "      <td>-0.559546</td>\n",
       "      <td>-0.15498</td>\n",
       "      <td>-0.039571</td>\n",
       "      <td>-0.362594</td>\n",
       "      <td>2.270000e-15</td>\n",
       "      <td>1.300000e-15</td>\n",
       "    </tr>\n",
       "    <tr>\n",
       "      <th>S0750</th>\n",
       "      <td>S0750</td>\n",
       "      <td>0</td>\n",
       "      <td>0</td>\n",
       "      <td>0</td>\n",
       "      <td>0</td>\n",
       "      <td>0</td>\n",
       "      <td>0</td>\n",
       "      <td>1</td>\n",
       "      <td>0</td>\n",
       "      <td>0</td>\n",
       "      <td>...</td>\n",
       "      <td>-0.09684</td>\n",
       "      <td>-0.983755</td>\n",
       "      <td>-0.177357</td>\n",
       "      <td>-0.178857</td>\n",
       "      <td>-0.559546</td>\n",
       "      <td>-0.15498</td>\n",
       "      <td>-0.039571</td>\n",
       "      <td>-0.362594</td>\n",
       "      <td>2.270000e-15</td>\n",
       "      <td>1.300000e-15</td>\n",
       "    </tr>\n",
       "    <tr>\n",
       "      <th>S0751</th>\n",
       "      <td>S0751</td>\n",
       "      <td>0</td>\n",
       "      <td>0</td>\n",
       "      <td>0</td>\n",
       "      <td>0</td>\n",
       "      <td>0</td>\n",
       "      <td>0</td>\n",
       "      <td>0</td>\n",
       "      <td>1</td>\n",
       "      <td>0</td>\n",
       "      <td>...</td>\n",
       "      <td>-0.09684</td>\n",
       "      <td>-0.983755</td>\n",
       "      <td>-0.177357</td>\n",
       "      <td>-0.178857</td>\n",
       "      <td>-0.559546</td>\n",
       "      <td>-0.15498</td>\n",
       "      <td>-0.039571</td>\n",
       "      <td>-0.362594</td>\n",
       "      <td>2.270000e-15</td>\n",
       "      <td>1.300000e-15</td>\n",
       "    </tr>\n",
       "    <tr>\n",
       "      <th>S0752</th>\n",
       "      <td>S0752</td>\n",
       "      <td>0</td>\n",
       "      <td>0</td>\n",
       "      <td>0</td>\n",
       "      <td>1</td>\n",
       "      <td>0</td>\n",
       "      <td>0</td>\n",
       "      <td>0</td>\n",
       "      <td>0</td>\n",
       "      <td>0</td>\n",
       "      <td>...</td>\n",
       "      <td>-0.09684</td>\n",
       "      <td>-0.983755</td>\n",
       "      <td>-0.177357</td>\n",
       "      <td>-0.178857</td>\n",
       "      <td>-0.559546</td>\n",
       "      <td>-0.15498</td>\n",
       "      <td>-0.039571</td>\n",
       "      <td>-0.362594</td>\n",
       "      <td>2.270000e-15</td>\n",
       "      <td>1.300000e-15</td>\n",
       "    </tr>\n",
       "    <tr>\n",
       "      <th>S0753</th>\n",
       "      <td>S0753</td>\n",
       "      <td>1</td>\n",
       "      <td>0</td>\n",
       "      <td>0</td>\n",
       "      <td>0</td>\n",
       "      <td>0</td>\n",
       "      <td>1</td>\n",
       "      <td>0</td>\n",
       "      <td>0</td>\n",
       "      <td>0</td>\n",
       "      <td>...</td>\n",
       "      <td>-0.09684</td>\n",
       "      <td>-0.983755</td>\n",
       "      <td>-0.177357</td>\n",
       "      <td>-0.178857</td>\n",
       "      <td>-0.559546</td>\n",
       "      <td>-0.15498</td>\n",
       "      <td>-0.039571</td>\n",
       "      <td>-0.362594</td>\n",
       "      <td>2.260000e-15</td>\n",
       "      <td>1.300000e-15</td>\n",
       "    </tr>\n",
       "  </tbody>\n",
       "</table>\n",
       "<p>754 rows × 59 columns</p>\n",
       "</div>"
      ],
      "text/plain": [
       "          sample_id  basalt  carbonate  chloride  iron_oxide  oxalate  \\\n",
       "sample_id                                                               \n",
       "S0000         S0000       0          0         0           0        0   \n",
       "S0001         S0001       0          1         0           0        0   \n",
       "S0002         S0002       0          0         0           0        0   \n",
       "S0003         S0003       0          1         0           1        0   \n",
       "S0004         S0004       0          0         0           1        0   \n",
       "...             ...     ...        ...       ...         ...      ...   \n",
       "S0749         S0749       0          0         0           0        0   \n",
       "S0750         S0750       0          0         0           0        0   \n",
       "S0751         S0751       0          0         0           0        0   \n",
       "S0752         S0752       0          0         0           1        0   \n",
       "S0753         S0753       1          0         0           0        0   \n",
       "\n",
       "           oxychlorine  phyllosilicate  silicate  sulfate  ...     2.12  \\\n",
       "sample_id                                                  ...            \n",
       "S0000                0               0         0        1  ... -0.09684   \n",
       "S0001                0               0         0        0  ... -0.09684   \n",
       "S0002                1               0         0        0  ... -0.09684   \n",
       "S0003                0               0         0        1  ... -0.09684   \n",
       "S0004                1               1         0        0  ... -0.09684   \n",
       "...                ...             ...       ...      ...  ...      ...   \n",
       "S0749                0               0         0        0  ... -0.09684   \n",
       "S0750                0               1         0        0  ... -0.09684   \n",
       "S0751                0               0         1        0  ... -0.09684   \n",
       "S0752                0               0         0        0  ... -0.09684   \n",
       "S0753                1               0         0        0  ... -0.09684   \n",
       "\n",
       "               0.13      1.13      2.13      0.14     1.14      2.14  \\\n",
       "sample_id                                                              \n",
       "S0000     -0.983755 -0.177357 -0.178857 -0.559546 -0.15498 -0.039571   \n",
       "S0001     -0.983755 -0.177357 -0.178857 -0.559546 -0.15498 -0.039571   \n",
       "S0002     -0.983755 -0.177357 -0.178857 -0.559546 -0.15498 -0.039571   \n",
       "S0003     -0.983755 -0.177357 -0.178857 -0.559546 -0.15498 -0.039571   \n",
       "S0004     -0.983755 -0.177357 -0.178857 -0.559546 -0.15498 -0.039571   \n",
       "...             ...       ...       ...       ...      ...       ...   \n",
       "S0749     -0.983755 -0.177357 -0.178857 -0.559546 -0.15498 -0.039571   \n",
       "S0750     -0.983755 -0.177357 -0.178857 -0.559546 -0.15498 -0.039571   \n",
       "S0751     -0.983755 -0.177357 -0.178857 -0.559546 -0.15498 -0.039571   \n",
       "S0752     -0.983755 -0.177357 -0.178857 -0.559546 -0.15498 -0.039571   \n",
       "S0753     -0.983755 -0.177357 -0.178857 -0.559546 -0.15498 -0.039571   \n",
       "\n",
       "               0.15          1.15          2.15  \n",
       "sample_id                                        \n",
       "S0000     -0.362594  2.270000e-15  1.300000e-15  \n",
       "S0001     -0.362594  2.270000e-15  1.300000e-15  \n",
       "S0002     -0.362594  2.270000e-15  1.300000e-15  \n",
       "S0003     -0.362594  2.270000e-15  1.300000e-15  \n",
       "S0004     -0.362594  2.270000e-15  1.300000e-15  \n",
       "...             ...           ...           ...  \n",
       "S0749     -0.362594  2.270000e-15  1.300000e-15  \n",
       "S0750     -0.362594  2.270000e-15  1.300000e-15  \n",
       "S0751     -0.362594  2.270000e-15  1.300000e-15  \n",
       "S0752     -0.362594  2.270000e-15  1.300000e-15  \n",
       "S0753     -0.362594  2.260000e-15  1.300000e-15  \n",
       "\n",
       "[754 rows x 59 columns]"
      ]
     },
     "execution_count": 3,
     "metadata": {},
     "output_type": "execute_result"
    }
   ],
   "source": [
    "# Read train features\n",
    "mars_data = pd.read_csv(\"../Data/train_features_new_with_PCA.csv\")\n",
    "mars_data.set_index(mars_data.sample_id, inplace=True)\n",
    "mars_data"
   ]
  },
  {
   "cell_type": "code",
   "execution_count": 4,
   "metadata": {},
   "outputs": [
    {
     "name": "stdout",
     "output_type": "stream",
     "text": [
      "Index(['sample_id', 'basalt', 'carbonate', 'chloride', 'iron_oxide', 'oxalate',\n",
      "       'oxychlorine', 'phyllosilicate', 'silicate', 'sulfate', 'sulfide', '0',\n",
      "       '1', '2', '0.1', '1.1', '2.1', '0.2', '1.2', '2.2', '0.3', '1.3', '2.3',\n",
      "       '0.4', '1.4', '2.4', '0.5', '1.5', '2.5', '0.6', '1.6', '2.6', '0.7',\n",
      "       '1.7', '2.7', '0.8', '1.8', '2.8', '0.9', '1.9', '2.9', '0.10', '1.10',\n",
      "       '2.10', '0.11', '1.11', '2.11', '0.12', '1.12', '2.12', '0.13', '1.13',\n",
      "       '2.13', '0.14', '1.14', '2.14', '0.15', '1.15', '2.15'],\n",
      "      dtype='object')\n"
     ]
    }
   ],
   "source": [
    "print(mars_data.columns)"
   ]
  },
  {
   "cell_type": "markdown",
   "metadata": {},
   "source": [
    "## Data Preprocessing"
   ]
  },
  {
   "cell_type": "code",
   "execution_count": 5,
   "metadata": {},
   "outputs": [],
   "source": [
    "# Data preprocessing \n",
    "# Drop 'sample_id' and separate features and target labels\n",
    "X = mars_data.drop(columns=['sample_id', 'basalt', 'carbonate', 'chloride', 'iron_oxide', 'oxalate', 'oxychlorine',\n",
    "                       'phyllosilicate', 'silicate', 'sulfate', 'sulfide'])\n",
    "y = mars_data[['basalt', 'carbonate', 'chloride', 'iron_oxide', 'oxalate', 'oxychlorine',\n",
    "          'phyllosilicate', 'silicate', 'sulfate', 'sulfide']]"
   ]
  },
  {
   "cell_type": "code",
   "execution_count": 6,
   "metadata": {},
   "outputs": [
    {
     "name": "stdout",
     "output_type": "stream",
     "text": [
      "(754, 48)\n",
      "(754, 10)\n"
     ]
    }
   ],
   "source": [
    "# Ensure we have correct dimensions\n",
    "print(X.shape)\n",
    "print(y.shape)"
   ]
  },
  {
   "cell_type": "code",
   "execution_count": 7,
   "metadata": {},
   "outputs": [],
   "source": [
    "# Split the data into training and test sets\n",
    "X_train, X_test, y_train, y_test = train_test_split(X, y, test_size=0.2, random_state=42)\n",
    "\n",
    "# Standardize the data\n",
    "scalar = StandardScaler()\n",
    "X_train = scalar.fit_transform(X_train)\n",
    "X_test = scalar.transform(X_test)"
   ]
  },
  {
   "cell_type": "code",
   "execution_count": 59,
   "metadata": {},
   "outputs": [],
   "source": [
    "labels = ['basalt', 'carbonate', 'chloride', 'iron_oxide', 'oxalate', 'oxychlorine',\n",
    "          'phyllosilicate', 'silicate', 'sulfate', 'sulfide']  # Label columns"
   ]
  },
  {
   "cell_type": "markdown",
   "metadata": {},
   "source": [
    "## Visualize class distribution for each label"
   ]
  },
  {
   "cell_type": "code",
   "execution_count": 60,
   "metadata": {},
   "outputs": [
    {
     "data": {
      "image/png": "[encoded data removed]",
      "text/plain": [
       "<Figure size 1500x800 with 10 Axes>"
      ]
     },
     "metadata": {},
     "output_type": "display_data"
    }
   ],
   "source": [
    "# Visualize class distribution for each label\n",
    "plt.figure(figsize=(15, 8))\n",
    "\n",
    "for i, label in enumerate(labels):\n",
    "    class_counts = mars_data[label].value_counts()\n",
    "    plt.subplot(2, 5, i + 1)  # Assuming you have 10 labels (adjust rows/columns as needed)\n",
    "    plt.bar(class_counts.index, class_counts.values, color=['skyblue', 'salmon'])\n",
    "    plt.title(f\"Label: {label}\")\n",
    "    plt.xticks([0, 1], labels=['Negative (0)', 'Positive (1)'])\n",
    "    plt.ylabel(\"Count\")\n",
    "    plt.xlabel(\"Class\")\n",
    "    plt.tight_layout()\n",
    "\n",
    "plt.suptitle(\"Class Distribution for Each Label\", fontsize=16, y=1.02)\n",
    "plt.tight_layout()\n",
    "plt.show()"
   ]
  },
  {
   "cell_type": "markdown",
   "metadata": {},
   "source": [
    "It seems like we are dealing with higly imbalanced data. "
   ]
  },
  {
   "cell_type": "markdown",
   "metadata": {},
   "source": [
    "## Binary Relevance \n",
    "\n",
    "Performs classification for each label individually.\n",
    "\n",
    "Converts a multi-label classification problem with L labels into L separate binary classification problems, each using the base classifier specified in the constructor. The final prediction is the combination of the results from all individual label classifiers.\n",
    "\n",
    "### Model 1: Support Vector Machine (SVC)"
   ]
  },
  {
   "cell_type": "code",
   "execution_count": 53,
   "metadata": {},
   "outputs": [
    {
     "name": "stdout",
     "output_type": "stream",
     "text": [
      "Accuracy for the SVC model: 0.15894039735099338\n",
      "Hamming Loss for the SVC model: 0.14834437086092717\n"
     ]
    }
   ],
   "source": [
    "# Initialize Binary Relevance with SVC as the base classifier\n",
    "classifier_svc = BinaryRelevance(\n",
    "    classifier = SVC(),\n",
    "    require_dense = [False, True]\n",
    ")\n",
    "# Train the model\n",
    "classifier_svc.fit(X_train, y_train)\n",
    "\n",
    "# Make predictions\n",
    "predictions_svc = classifier_svc.predict(X_test)\n",
    "\n",
    "# Calculate accuracy\n",
    "accuracy_svc = accuracy_score(y_test, predictions_svc)\n",
    "print(\"Accuracy for the SVC model:\", accuracy_svc)\n",
    "\n",
    "# Hamming Loss: Fraction of incorrect labels\n",
    "hamming_svc = hamming_loss(y_test, predictions_svc)\n",
    "print(\"Hamming Loss for the SVC model:\", hamming_svc)"
   ]
  },
  {
   "cell_type": "code",
   "execution_count": null,
   "metadata": {},
   "outputs": [
    {
     "name": "stdout",
     "output_type": "stream",
     "text": [
      "Classification Report:\n",
      "               precision    recall  f1-score   support\n",
      "\n",
      "           0       0.00      0.00      0.00        19\n",
      "           1       0.00      0.00      0.00        14\n",
      "           2       0.00      0.00      0.00        20\n",
      "           3       0.00      0.00      0.00        33\n",
      "           4       0.00      0.00      0.00         9\n",
      "           5       1.00      0.03      0.06        34\n",
      "           6       0.79      0.23      0.35        48\n",
      "           7       0.00      0.00      0.00        19\n",
      "           8       0.00      0.00      0.00        32\n",
      "           9       0.00      0.00      0.00         4\n",
      "\n",
      "   micro avg       0.75      0.05      0.10       232\n",
      "   macro avg       0.18      0.03      0.04       232\n",
      "weighted avg       0.31      0.05      0.08       232\n",
      " samples avg       0.08      0.04      0.05       232\n",
      "\n"
     ]
    },
    {
     "name": "stderr",
     "output_type": "stream",
     "text": [
      "c:\\Users\\saram\\anaconda3\\envs\\erdos_fall_2024\\Lib\\site-packages\\sklearn\\metrics\\_classification.py:1531: UndefinedMetricWarning: Precision is ill-defined and being set to 0.0 in labels with no predicted samples. Use `zero_division` parameter to control this behavior.\n",
      "  _warn_prf(average, modifier, f\"{metric.capitalize()} is\", len(result))\n",
      "c:\\Users\\saram\\anaconda3\\envs\\erdos_fall_2024\\Lib\\site-packages\\sklearn\\metrics\\_classification.py:1531: UndefinedMetricWarning: Precision is ill-defined and being set to 0.0 in samples with no predicted labels. Use `zero_division` parameter to control this behavior.\n",
      "  _warn_prf(average, modifier, f\"{metric.capitalize()} is\", len(result))\n",
      "c:\\Users\\saram\\anaconda3\\envs\\erdos_fall_2024\\Lib\\site-packages\\sklearn\\metrics\\_classification.py:1531: UndefinedMetricWarning: Recall is ill-defined and being set to 0.0 in samples with no true labels. Use `zero_division` parameter to control this behavior.\n",
      "  _warn_prf(average, modifier, f\"{metric.capitalize()} is\", len(result))\n",
      "c:\\Users\\saram\\anaconda3\\envs\\erdos_fall_2024\\Lib\\site-packages\\sklearn\\metrics\\_classification.py:1531: UndefinedMetricWarning: F-score is ill-defined and being set to 0.0 in samples with no true nor predicted labels. Use `zero_division` parameter to control this behavior.\n",
      "  _warn_prf(average, modifier, f\"{metric.capitalize()} is\", len(result))\n"
     ]
    }
   ],
   "source": [
    "# Generate the classification report\n",
    "report = classification_report(y_test, predictions_svc)\n",
    "\n",
    "print(\"Classification Report for the SVC model:\\n\", report)"
   ]
  },
  {
   "cell_type": "markdown",
   "metadata": {},
   "source": [
    "### Model 2: Logistic Regression"
   ]
  },
  {
   "cell_type": "code",
   "execution_count": 54,
   "metadata": {},
   "outputs": [
    {
     "name": "stdout",
     "output_type": "stream",
     "text": [
      "Accuracy for the Log Regression model: 0.23178807947019867\n",
      "Hamming Loss for the Log Regression model: 0.13642384105960265\n"
     ]
    }
   ],
   "source": [
    "# Initialize Binary Relevance with Logistic Regression as the base classifier\n",
    "classifier_lr = BinaryRelevance(classifier=LogisticRegression(max_iter=100))\n",
    "\n",
    "# Train the model\n",
    "classifier_lr.fit(X_train, y_train)\n",
    "\n",
    "# Make predictions\n",
    "predictions_lr = classifier_lr.predict(X_test)\n",
    "\n",
    "# Calculate accuracy\n",
    "accuracy_lr = accuracy_score(y_test, predictions_lr)\n",
    "print(\"Accuracy for the Log Regression model:\", accuracy_lr)\n",
    "\n",
    "# Hamming Loss: Fraction of incorrect labels\n",
    "hamming_lr = hamming_loss(y_test, predictions_lr)\n",
    "print(\"Hamming Loss for the Log Regression model:\", hamming_lr)\n"
   ]
  },
  {
   "cell_type": "code",
   "execution_count": 40,
   "metadata": {},
   "outputs": [
    {
     "name": "stdout",
     "output_type": "stream",
     "text": [
      "Classification Report for the Log Regression model:\n",
      "               precision    recall  f1-score   support\n",
      "\n",
      "           0       0.75      0.16      0.26        19\n",
      "           1       0.50      0.14      0.22        14\n",
      "           2       1.00      0.20      0.33        20\n",
      "           3       0.60      0.36      0.45        33\n",
      "           4       1.00      0.22      0.36         9\n",
      "           5       0.58      0.21      0.30        34\n",
      "           6       0.65      0.23      0.34        48\n",
      "           7       0.75      0.16      0.26        19\n",
      "           8       1.00      0.12      0.22        32\n",
      "           9       1.00      0.25      0.40         4\n",
      "\n",
      "   micro avg       0.68      0.21      0.32       232\n",
      "   macro avg       0.78      0.21      0.32       232\n",
      "weighted avg       0.74      0.21      0.32       232\n",
      " samples avg       0.21      0.17      0.18       232\n",
      "\n"
     ]
    },
    {
     "name": "stderr",
     "output_type": "stream",
     "text": [
      "c:\\Users\\saram\\anaconda3\\envs\\erdos_fall_2024\\Lib\\site-packages\\sklearn\\metrics\\_classification.py:1531: UndefinedMetricWarning: Precision is ill-defined and being set to 0.0 in samples with no predicted labels. Use `zero_division` parameter to control this behavior.\n",
      "  _warn_prf(average, modifier, f\"{metric.capitalize()} is\", len(result))\n",
      "c:\\Users\\saram\\anaconda3\\envs\\erdos_fall_2024\\Lib\\site-packages\\sklearn\\metrics\\_classification.py:1531: UndefinedMetricWarning: Recall is ill-defined and being set to 0.0 in samples with no true labels. Use `zero_division` parameter to control this behavior.\n",
      "  _warn_prf(average, modifier, f\"{metric.capitalize()} is\", len(result))\n",
      "c:\\Users\\saram\\anaconda3\\envs\\erdos_fall_2024\\Lib\\site-packages\\sklearn\\metrics\\_classification.py:1531: UndefinedMetricWarning: F-score is ill-defined and being set to 0.0 in samples with no true nor predicted labels. Use `zero_division` parameter to control this behavior.\n",
      "  _warn_prf(average, modifier, f\"{metric.capitalize()} is\", len(result))\n"
     ]
    }
   ],
   "source": [
    "# Generate the classification report\n",
    "report = classification_report(y_test, predictions_lr)\n",
    "\n",
    "print(\"Classification Report for the Log Regression model:\\n\", report)"
   ]
  },
  {
   "cell_type": "markdown",
   "metadata": {},
   "source": [
    "### Model 3: K-Nearest Neighbors (KNN)"
   ]
  },
  {
   "cell_type": "code",
   "execution_count": 56,
   "metadata": {},
   "outputs": [
    {
     "name": "stdout",
     "output_type": "stream",
     "text": [
      "Accuracy for the KNN model: 0.5033112582781457\n",
      "Hamming Loss for the KNN model: 0.09205298013245033\n"
     ]
    }
   ],
   "source": [
    "# Initialize Binary Relevance with KNeighborsClassifier as the base classifier\n",
    "classifier_knn = BinaryRelevance(classifier=KNeighborsClassifier(n_neighbors=5))\n",
    "\n",
    "# Train the model\n",
    "classifier_knn.fit(X_train, y_train)\n",
    "\n",
    "# Make predictions\n",
    "predictions_knn = classifier_knn.predict(X_test)\n",
    "\n",
    "# Calculate accuracy\n",
    "accuracy_knn = accuracy_score(y_test, predictions_knn)\n",
    "print(\"Accuracy for the KNN model:\", accuracy_knn)\n",
    "\n",
    "# Hamming Loss: Fraction of incorrect labels\n",
    "hamming_knn = hamming_loss(y_test, predictions_knn)\n",
    "print(\"Hamming Loss for the KNN model:\", hamming_knn)"
   ]
  },
  {
   "cell_type": "code",
   "execution_count": 49,
   "metadata": {},
   "outputs": [
    {
     "name": "stdout",
     "output_type": "stream",
     "text": [
      "Classification Report for the KNN model:\n",
      "               precision    recall  f1-score   support\n",
      "\n",
      "           0       0.78      0.37      0.50        19\n",
      "           1       0.67      0.71      0.69        14\n",
      "           2       0.60      0.15      0.24        20\n",
      "           3       0.76      0.48      0.59        33\n",
      "           4       1.00      0.78      0.88         9\n",
      "           5       0.82      0.82      0.82        34\n",
      "           6       0.72      0.71      0.72        48\n",
      "           7       0.65      0.58      0.61        19\n",
      "           8       0.76      0.69      0.72        32\n",
      "           9       1.00      0.25      0.40         4\n",
      "\n",
      "   micro avg       0.75      0.60      0.67       232\n",
      "   macro avg       0.78      0.55      0.62       232\n",
      "weighted avg       0.75      0.60      0.65       232\n",
      " samples avg       0.55      0.50      0.51       232\n",
      "\n"
     ]
    },
    {
     "name": "stderr",
     "output_type": "stream",
     "text": [
      "c:\\Users\\saram\\anaconda3\\envs\\erdos_fall_2024\\Lib\\site-packages\\sklearn\\metrics\\_classification.py:1531: UndefinedMetricWarning: Precision is ill-defined and being set to 0.0 in samples with no predicted labels. Use `zero_division` parameter to control this behavior.\n",
      "  _warn_prf(average, modifier, f\"{metric.capitalize()} is\", len(result))\n",
      "c:\\Users\\saram\\anaconda3\\envs\\erdos_fall_2024\\Lib\\site-packages\\sklearn\\metrics\\_classification.py:1531: UndefinedMetricWarning: Recall is ill-defined and being set to 0.0 in samples with no true labels. Use `zero_division` parameter to control this behavior.\n",
      "  _warn_prf(average, modifier, f\"{metric.capitalize()} is\", len(result))\n",
      "c:\\Users\\saram\\anaconda3\\envs\\erdos_fall_2024\\Lib\\site-packages\\sklearn\\metrics\\_classification.py:1531: UndefinedMetricWarning: F-score is ill-defined and being set to 0.0 in samples with no true nor predicted labels. Use `zero_division` parameter to control this behavior.\n",
      "  _warn_prf(average, modifier, f\"{metric.capitalize()} is\", len(result))\n"
     ]
    }
   ],
   "source": [
    "# Generate the classification report\n",
    "report = classification_report(y_test, predictions_knn)\n",
    "\n",
    "print(\"Classification Report for the KNN model:\\n\", report)"
   ]
  },
  {
   "cell_type": "markdown",
   "metadata": {},
   "source": [
    "### Model 4: Random Forest Classifier"
   ]
  },
  {
   "cell_type": "code",
   "execution_count": 58,
   "metadata": {},
   "outputs": [
    {
     "name": "stdout",
     "output_type": "stream",
     "text": [
      "Accuracy for the Random Forest Classifier model: 0.48344370860927155\n",
      "Hamming Loss for the Random Forest model: 0.08211920529801324\n"
     ]
    }
   ],
   "source": [
    "# Initialize Binary Relevance with RandomForestClassifier as the base classifier\n",
    "classifier_rf = BinaryRelevance(classifier=RandomForestClassifier(n_estimators=100))\n",
    "\n",
    "# Train the model\n",
    "classifier_rf.fit(X_train, y_train)\n",
    "\n",
    "# Make predictions\n",
    "predictions_rf = classifier_rf.predict(X_test)\n",
    "\n",
    "# Calculate accuracy\n",
    "accuracy_rf = accuracy_score(y_test, predictions_rf)\n",
    "print(\"Accuracy for the Random Forest Classifier model:\", accuracy_rf)\n",
    "\n",
    "# Hamming Loss: Fraction of incorrect labels\n",
    "hamming_rf = hamming_loss(y_test, predictions_rf)\n",
    "print(\"Hamming Loss for the Random Forest model:\", hamming_rf)"
   ]
  },
  {
   "cell_type": "code",
   "execution_count": 44,
   "metadata": {},
   "outputs": [
    {
     "name": "stdout",
     "output_type": "stream",
     "text": [
      "Classification Report for the Random Forest Classifier model:\n",
      "               precision    recall  f1-score   support\n",
      "\n",
      "           0       0.86      0.32      0.46        19\n",
      "           1       0.80      0.57      0.67        14\n",
      "           2       1.00      0.40      0.57        20\n",
      "           3       0.77      0.52      0.62        33\n",
      "           4       1.00      0.78      0.88         9\n",
      "           5       0.86      0.74      0.79        34\n",
      "           6       0.91      0.67      0.77        48\n",
      "           7       0.71      0.26      0.38        19\n",
      "           8       0.95      0.62      0.75        32\n",
      "           9       1.00      0.50      0.67         4\n",
      "\n",
      "   micro avg       0.88      0.56      0.68       232\n",
      "   macro avg       0.89      0.54      0.66       232\n",
      "weighted avg       0.88      0.56      0.67       232\n",
      " samples avg       0.51      0.46      0.47       232\n",
      "\n"
     ]
    },
    {
     "name": "stderr",
     "output_type": "stream",
     "text": [
      "c:\\Users\\saram\\anaconda3\\envs\\erdos_fall_2024\\Lib\\site-packages\\sklearn\\metrics\\_classification.py:1531: UndefinedMetricWarning: Precision is ill-defined and being set to 0.0 in samples with no predicted labels. Use `zero_division` parameter to control this behavior.\n",
      "  _warn_prf(average, modifier, f\"{metric.capitalize()} is\", len(result))\n",
      "c:\\Users\\saram\\anaconda3\\envs\\erdos_fall_2024\\Lib\\site-packages\\sklearn\\metrics\\_classification.py:1531: UndefinedMetricWarning: Recall is ill-defined and being set to 0.0 in samples with no true labels. Use `zero_division` parameter to control this behavior.\n",
      "  _warn_prf(average, modifier, f\"{metric.capitalize()} is\", len(result))\n",
      "c:\\Users\\saram\\anaconda3\\envs\\erdos_fall_2024\\Lib\\site-packages\\sklearn\\metrics\\_classification.py:1531: UndefinedMetricWarning: F-score is ill-defined and being set to 0.0 in samples with no true nor predicted labels. Use `zero_division` parameter to control this behavior.\n",
      "  _warn_prf(average, modifier, f\"{metric.capitalize()} is\", len(result))\n"
     ]
    }
   ],
   "source": [
    "# Generate the classification report\n",
    "report = classification_report(y_test, predictions_rf)\n",
    "\n",
    "print(\"Classification Report for the Random Forest Classifier model:\\n\", report)"
   ]
  },
  {
   "cell_type": "markdown",
   "metadata": {},
   "source": [
    "It seems like the Random Forest model performs better (has higher accuracy and low hamming loss), which makes sense since the data is imbalanced."
   ]
  },
  {
   "cell_type": "markdown",
   "metadata": {},
   "source": [
    "## References:\n",
    "\n",
    "- [Multi-Label Classification in Python](http://scikit.ml/index.html)\n",
    "- [Binary Relevance](http://scikit.ml/api/skmultilearn.problem_transform.br.html#binary-relevance)\n"
   ]
  }
 ],
 "metadata": {
  "kernelspec": {
   "display_name": "erdos_fall_2024",
   "language": "python",
   "name": "python3"
  },
  "language_info": {
   "codemirror_mode": {
    "name": "ipython",
    "version": 3
   },
   "file_extension": ".py",
   "mimetype": "text/x-python",
   "name": "python",
   "nbconvert_exporter": "python",
   "pygments_lexer": "ipython3",
   "version": "3.12.5"
  }
 },
 "nbformat": 4,
 "nbformat_minor": 2
}
