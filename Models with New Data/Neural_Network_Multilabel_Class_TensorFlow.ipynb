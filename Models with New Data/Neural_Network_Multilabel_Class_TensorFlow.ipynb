{
 "cells": [
  {
   "cell_type": "markdown",
   "metadata": {},
   "source": [
    "# Neural Network Multilabel Classification using TensorFlow"
   ]
  },
  {
   "cell_type": "markdown",
   "metadata": {},
   "source": [
    "In this notebook, there are two code snippets which both define and evaluate a neural network model for multilabel classification using TensorFlow, but there are several key differences in structure, methodology, and evaluation techniques."
   ]
  },
  {
   "cell_type": "code",
   "execution_count": null,
   "metadata": {},
   "outputs": [],
   "source": [
    "# Import important libraries\n",
    "import numpy as np\n",
    "import pandas as pd\n",
    "import matplotlib.pyplot as plt\n",
    "import seaborn as sns\n",
    "from sklearn.model_selection import train_test_split\n",
    "from sklearn.preprocessing import StandardScaler\n",
    "from sklearn.datasets import make_multilabel_classification\n",
    "import tensorflow as tf\n",
    "from sklearn.metrics import accuracy_score, hamming_loss, f1_score\n",
    "import numpy as np\n",
    "import keras\n",
    "from keras.models import Sequential\n",
    "from keras.layers import Dense\n",
    "from sklearn.model_selection import RepeatedKFold"
   ]
  },
  {
   "cell_type": "code",
   "execution_count": 2,
   "metadata": {},
   "outputs": [],
   "source": [
    "import os\n",
    "# Set the working directory\n",
    "os.chdir(r'/Users/saram/Desktop/Erdos_Institute/project/Data')"
   ]
  },
  {
   "cell_type": "code",
   "execution_count": 3,
   "metadata": {},
   "outputs": [
    {
     "data": {
      "text/html": [
       "<div>\n",
       "<style scoped>\n",
       "    .dataframe tbody tr th:only-of-type {\n",
       "        vertical-align: middle;\n",
       "    }\n",
       "\n",
       "    .dataframe tbody tr th {\n",
       "        vertical-align: top;\n",
       "    }\n",
       "\n",
       "    .dataframe thead th {\n",
       "        text-align: right;\n",
       "    }\n",
       "</style>\n",
       "<table border=\"1\" class=\"dataframe\">\n",
       "  <thead>\n",
       "    <tr style=\"text-align: right;\">\n",
       "      <th></th>\n",
       "      <th>sample_id</th>\n",
       "      <th>basalt</th>\n",
       "      <th>carbonate</th>\n",
       "      <th>chloride</th>\n",
       "      <th>iron_oxide</th>\n",
       "      <th>oxalate</th>\n",
       "      <th>oxychlorine</th>\n",
       "      <th>phyllosilicate</th>\n",
       "      <th>silicate</th>\n",
       "      <th>sulfate</th>\n",
       "      <th>...</th>\n",
       "      <th>2.12</th>\n",
       "      <th>0.13</th>\n",
       "      <th>1.13</th>\n",
       "      <th>2.13</th>\n",
       "      <th>0.14</th>\n",
       "      <th>1.14</th>\n",
       "      <th>2.14</th>\n",
       "      <th>0.15</th>\n",
       "      <th>1.15</th>\n",
       "      <th>2.15</th>\n",
       "    </tr>\n",
       "    <tr>\n",
       "      <th>sample_id</th>\n",
       "      <th></th>\n",
       "      <th></th>\n",
       "      <th></th>\n",
       "      <th></th>\n",
       "      <th></th>\n",
       "      <th></th>\n",
       "      <th></th>\n",
       "      <th></th>\n",
       "      <th></th>\n",
       "      <th></th>\n",
       "      <th></th>\n",
       "      <th></th>\n",
       "      <th></th>\n",
       "      <th></th>\n",
       "      <th></th>\n",
       "      <th></th>\n",
       "      <th></th>\n",
       "      <th></th>\n",
       "      <th></th>\n",
       "      <th></th>\n",
       "      <th></th>\n",
       "    </tr>\n",
       "  </thead>\n",
       "  <tbody>\n",
       "    <tr>\n",
       "      <th>S0000</th>\n",
       "      <td>S0000</td>\n",
       "      <td>0</td>\n",
       "      <td>0</td>\n",
       "      <td>0</td>\n",
       "      <td>0</td>\n",
       "      <td>0</td>\n",
       "      <td>0</td>\n",
       "      <td>0</td>\n",
       "      <td>0</td>\n",
       "      <td>1</td>\n",
       "      <td>...</td>\n",
       "      <td>-0.09684</td>\n",
       "      <td>-0.983755</td>\n",
       "      <td>-0.177357</td>\n",
       "      <td>-0.178857</td>\n",
       "      <td>-0.559546</td>\n",
       "      <td>-0.15498</td>\n",
       "      <td>-0.039571</td>\n",
       "      <td>-0.362594</td>\n",
       "      <td>2.270000e-15</td>\n",
       "      <td>1.300000e-15</td>\n",
       "    </tr>\n",
       "    <tr>\n",
       "      <th>S0001</th>\n",
       "      <td>S0001</td>\n",
       "      <td>0</td>\n",
       "      <td>1</td>\n",
       "      <td>0</td>\n",
       "      <td>0</td>\n",
       "      <td>0</td>\n",
       "      <td>0</td>\n",
       "      <td>0</td>\n",
       "      <td>0</td>\n",
       "      <td>0</td>\n",
       "      <td>...</td>\n",
       "      <td>-0.09684</td>\n",
       "      <td>-0.983755</td>\n",
       "      <td>-0.177357</td>\n",
       "      <td>-0.178857</td>\n",
       "      <td>-0.559546</td>\n",
       "      <td>-0.15498</td>\n",
       "      <td>-0.039571</td>\n",
       "      <td>-0.362594</td>\n",
       "      <td>2.270000e-15</td>\n",
       "      <td>1.300000e-15</td>\n",
       "    </tr>\n",
       "    <tr>\n",
       "      <th>S0002</th>\n",
       "      <td>S0002</td>\n",
       "      <td>0</td>\n",
       "      <td>0</td>\n",
       "      <td>0</td>\n",
       "      <td>0</td>\n",
       "      <td>0</td>\n",
       "      <td>1</td>\n",
       "      <td>0</td>\n",
       "      <td>0</td>\n",
       "      <td>0</td>\n",
       "      <td>...</td>\n",
       "      <td>-0.09684</td>\n",
       "      <td>-0.983755</td>\n",
       "      <td>-0.177357</td>\n",
       "      <td>-0.178857</td>\n",
       "      <td>-0.559546</td>\n",
       "      <td>-0.15498</td>\n",
       "      <td>-0.039571</td>\n",
       "      <td>-0.362594</td>\n",
       "      <td>2.270000e-15</td>\n",
       "      <td>1.300000e-15</td>\n",
       "    </tr>\n",
       "    <tr>\n",
       "      <th>S0003</th>\n",
       "      <td>S0003</td>\n",
       "      <td>0</td>\n",
       "      <td>1</td>\n",
       "      <td>0</td>\n",
       "      <td>1</td>\n",
       "      <td>0</td>\n",
       "      <td>0</td>\n",
       "      <td>0</td>\n",
       "      <td>0</td>\n",
       "      <td>1</td>\n",
       "      <td>...</td>\n",
       "      <td>-0.09684</td>\n",
       "      <td>-0.983755</td>\n",
       "      <td>-0.177357</td>\n",
       "      <td>-0.178857</td>\n",
       "      <td>-0.559546</td>\n",
       "      <td>-0.15498</td>\n",
       "      <td>-0.039571</td>\n",
       "      <td>-0.362594</td>\n",
       "      <td>2.270000e-15</td>\n",
       "      <td>1.300000e-15</td>\n",
       "    </tr>\n",
       "    <tr>\n",
       "      <th>S0004</th>\n",
       "      <td>S0004</td>\n",
       "      <td>0</td>\n",
       "      <td>0</td>\n",
       "      <td>0</td>\n",
       "      <td>1</td>\n",
       "      <td>0</td>\n",
       "      <td>1</td>\n",
       "      <td>1</td>\n",
       "      <td>0</td>\n",
       "      <td>0</td>\n",
       "      <td>...</td>\n",
       "      <td>-0.09684</td>\n",
       "      <td>-0.983755</td>\n",
       "      <td>-0.177357</td>\n",
       "      <td>-0.178857</td>\n",
       "      <td>-0.559546</td>\n",
       "      <td>-0.15498</td>\n",
       "      <td>-0.039571</td>\n",
       "      <td>-0.362594</td>\n",
       "      <td>2.270000e-15</td>\n",
       "      <td>1.300000e-15</td>\n",
       "    </tr>\n",
       "    <tr>\n",
       "      <th>...</th>\n",
       "      <td>...</td>\n",
       "      <td>...</td>\n",
       "      <td>...</td>\n",
       "      <td>...</td>\n",
       "      <td>...</td>\n",
       "      <td>...</td>\n",
       "      <td>...</td>\n",
       "      <td>...</td>\n",
       "      <td>...</td>\n",
       "      <td>...</td>\n",
       "      <td>...</td>\n",
       "      <td>...</td>\n",
       "      <td>...</td>\n",
       "      <td>...</td>\n",
       "      <td>...</td>\n",
       "      <td>...</td>\n",
       "      <td>...</td>\n",
       "      <td>...</td>\n",
       "      <td>...</td>\n",
       "      <td>...</td>\n",
       "      <td>...</td>\n",
       "    </tr>\n",
       "    <tr>\n",
       "      <th>S0749</th>\n",
       "      <td>S0749</td>\n",
       "      <td>0</td>\n",
       "      <td>0</td>\n",
       "      <td>0</td>\n",
       "      <td>0</td>\n",
       "      <td>0</td>\n",
       "      <td>0</td>\n",
       "      <td>0</td>\n",
       "      <td>0</td>\n",
       "      <td>0</td>\n",
       "      <td>...</td>\n",
       "      <td>-0.09684</td>\n",
       "      <td>-0.983755</td>\n",
       "      <td>-0.177357</td>\n",
       "      <td>-0.178857</td>\n",
       "      <td>-0.559546</td>\n",
       "      <td>-0.15498</td>\n",
       "      <td>-0.039571</td>\n",
       "      <td>-0.362594</td>\n",
       "      <td>2.270000e-15</td>\n",
       "      <td>1.300000e-15</td>\n",
       "    </tr>\n",
       "    <tr>\n",
       "      <th>S0750</th>\n",
       "      <td>S0750</td>\n",
       "      <td>0</td>\n",
       "      <td>0</td>\n",
       "      <td>0</td>\n",
       "      <td>0</td>\n",
       "      <td>0</td>\n",
       "      <td>0</td>\n",
       "      <td>1</td>\n",
       "      <td>0</td>\n",
       "      <td>0</td>\n",
       "      <td>...</td>\n",
       "      <td>-0.09684</td>\n",
       "      <td>-0.983755</td>\n",
       "      <td>-0.177357</td>\n",
       "      <td>-0.178857</td>\n",
       "      <td>-0.559546</td>\n",
       "      <td>-0.15498</td>\n",
       "      <td>-0.039571</td>\n",
       "      <td>-0.362594</td>\n",
       "      <td>2.270000e-15</td>\n",
       "      <td>1.300000e-15</td>\n",
       "    </tr>\n",
       "    <tr>\n",
       "      <th>S0751</th>\n",
       "      <td>S0751</td>\n",
       "      <td>0</td>\n",
       "      <td>0</td>\n",
       "      <td>0</td>\n",
       "      <td>0</td>\n",
       "      <td>0</td>\n",
       "      <td>0</td>\n",
       "      <td>0</td>\n",
       "      <td>1</td>\n",
       "      <td>0</td>\n",
       "      <td>...</td>\n",
       "      <td>-0.09684</td>\n",
       "      <td>-0.983755</td>\n",
       "      <td>-0.177357</td>\n",
       "      <td>-0.178857</td>\n",
       "      <td>-0.559546</td>\n",
       "      <td>-0.15498</td>\n",
       "      <td>-0.039571</td>\n",
       "      <td>-0.362594</td>\n",
       "      <td>2.270000e-15</td>\n",
       "      <td>1.300000e-15</td>\n",
       "    </tr>\n",
       "    <tr>\n",
       "      <th>S0752</th>\n",
       "      <td>S0752</td>\n",
       "      <td>0</td>\n",
       "      <td>0</td>\n",
       "      <td>0</td>\n",
       "      <td>1</td>\n",
       "      <td>0</td>\n",
       "      <td>0</td>\n",
       "      <td>0</td>\n",
       "      <td>0</td>\n",
       "      <td>0</td>\n",
       "      <td>...</td>\n",
       "      <td>-0.09684</td>\n",
       "      <td>-0.983755</td>\n",
       "      <td>-0.177357</td>\n",
       "      <td>-0.178857</td>\n",
       "      <td>-0.559546</td>\n",
       "      <td>-0.15498</td>\n",
       "      <td>-0.039571</td>\n",
       "      <td>-0.362594</td>\n",
       "      <td>2.270000e-15</td>\n",
       "      <td>1.300000e-15</td>\n",
       "    </tr>\n",
       "    <tr>\n",
       "      <th>S0753</th>\n",
       "      <td>S0753</td>\n",
       "      <td>1</td>\n",
       "      <td>0</td>\n",
       "      <td>0</td>\n",
       "      <td>0</td>\n",
       "      <td>0</td>\n",
       "      <td>1</td>\n",
       "      <td>0</td>\n",
       "      <td>0</td>\n",
       "      <td>0</td>\n",
       "      <td>...</td>\n",
       "      <td>-0.09684</td>\n",
       "      <td>-0.983755</td>\n",
       "      <td>-0.177357</td>\n",
       "      <td>-0.178857</td>\n",
       "      <td>-0.559546</td>\n",
       "      <td>-0.15498</td>\n",
       "      <td>-0.039571</td>\n",
       "      <td>-0.362594</td>\n",
       "      <td>2.260000e-15</td>\n",
       "      <td>1.300000e-15</td>\n",
       "    </tr>\n",
       "  </tbody>\n",
       "</table>\n",
       "<p>754 rows × 59 columns</p>\n",
       "</div>"
      ],
      "text/plain": [
       "          sample_id  basalt  carbonate  chloride  iron_oxide  oxalate  \\\n",
       "sample_id                                                               \n",
       "S0000         S0000       0          0         0           0        0   \n",
       "S0001         S0001       0          1         0           0        0   \n",
       "S0002         S0002       0          0         0           0        0   \n",
       "S0003         S0003       0          1         0           1        0   \n",
       "S0004         S0004       0          0         0           1        0   \n",
       "...             ...     ...        ...       ...         ...      ...   \n",
       "S0749         S0749       0          0         0           0        0   \n",
       "S0750         S0750       0          0         0           0        0   \n",
       "S0751         S0751       0          0         0           0        0   \n",
       "S0752         S0752       0          0         0           1        0   \n",
       "S0753         S0753       1          0         0           0        0   \n",
       "\n",
       "           oxychlorine  phyllosilicate  silicate  sulfate  ...     2.12  \\\n",
       "sample_id                                                  ...            \n",
       "S0000                0               0         0        1  ... -0.09684   \n",
       "S0001                0               0         0        0  ... -0.09684   \n",
       "S0002                1               0         0        0  ... -0.09684   \n",
       "S0003                0               0         0        1  ... -0.09684   \n",
       "S0004                1               1         0        0  ... -0.09684   \n",
       "...                ...             ...       ...      ...  ...      ...   \n",
       "S0749                0               0         0        0  ... -0.09684   \n",
       "S0750                0               1         0        0  ... -0.09684   \n",
       "S0751                0               0         1        0  ... -0.09684   \n",
       "S0752                0               0         0        0  ... -0.09684   \n",
       "S0753                1               0         0        0  ... -0.09684   \n",
       "\n",
       "               0.13      1.13      2.13      0.14     1.14      2.14  \\\n",
       "sample_id                                                              \n",
       "S0000     -0.983755 -0.177357 -0.178857 -0.559546 -0.15498 -0.039571   \n",
       "S0001     -0.983755 -0.177357 -0.178857 -0.559546 -0.15498 -0.039571   \n",
       "S0002     -0.983755 -0.177357 -0.178857 -0.559546 -0.15498 -0.039571   \n",
       "S0003     -0.983755 -0.177357 -0.178857 -0.559546 -0.15498 -0.039571   \n",
       "S0004     -0.983755 -0.177357 -0.178857 -0.559546 -0.15498 -0.039571   \n",
       "...             ...       ...       ...       ...      ...       ...   \n",
       "S0749     -0.983755 -0.177357 -0.178857 -0.559546 -0.15498 -0.039571   \n",
       "S0750     -0.983755 -0.177357 -0.178857 -0.559546 -0.15498 -0.039571   \n",
       "S0751     -0.983755 -0.177357 -0.178857 -0.559546 -0.15498 -0.039571   \n",
       "S0752     -0.983755 -0.177357 -0.178857 -0.559546 -0.15498 -0.039571   \n",
       "S0753     -0.983755 -0.177357 -0.178857 -0.559546 -0.15498 -0.039571   \n",
       "\n",
       "               0.15          1.15          2.15  \n",
       "sample_id                                        \n",
       "S0000     -0.362594  2.270000e-15  1.300000e-15  \n",
       "S0001     -0.362594  2.270000e-15  1.300000e-15  \n",
       "S0002     -0.362594  2.270000e-15  1.300000e-15  \n",
       "S0003     -0.362594  2.270000e-15  1.300000e-15  \n",
       "S0004     -0.362594  2.270000e-15  1.300000e-15  \n",
       "...             ...           ...           ...  \n",
       "S0749     -0.362594  2.270000e-15  1.300000e-15  \n",
       "S0750     -0.362594  2.270000e-15  1.300000e-15  \n",
       "S0751     -0.362594  2.270000e-15  1.300000e-15  \n",
       "S0752     -0.362594  2.270000e-15  1.300000e-15  \n",
       "S0753     -0.362594  2.260000e-15  1.300000e-15  \n",
       "\n",
       "[754 rows x 59 columns]"
      ]
     },
     "execution_count": 3,
     "metadata": {},
     "output_type": "execute_result"
    }
   ],
   "source": [
    "# Read train features\n",
    "mars_data = pd.read_csv(\"../Data/train_features_new_with_PCA.csv\")\n",
    "mars_data.set_index(mars_data.sample_id, inplace=True)\n",
    "mars_data"
   ]
  },
  {
   "cell_type": "code",
   "execution_count": 4,
   "metadata": {},
   "outputs": [
    {
     "name": "stdout",
     "output_type": "stream",
     "text": [
      "Index(['sample_id', 'basalt', 'carbonate', 'chloride', 'iron_oxide', 'oxalate',\n",
      "       'oxychlorine', 'phyllosilicate', 'silicate', 'sulfate', 'sulfide', '0',\n",
      "       '1', '2', '0.1', '1.1', '2.1', '0.2', '1.2', '2.2', '0.3', '1.3', '2.3',\n",
      "       '0.4', '1.4', '2.4', '0.5', '1.5', '2.5', '0.6', '1.6', '2.6', '0.7',\n",
      "       '1.7', '2.7', '0.8', '1.8', '2.8', '0.9', '1.9', '2.9', '0.10', '1.10',\n",
      "       '2.10', '0.11', '1.11', '2.11', '0.12', '1.12', '2.12', '0.13', '1.13',\n",
      "       '2.13', '0.14', '1.14', '2.14', '0.15', '1.15', '2.15'],\n",
      "      dtype='object')\n"
     ]
    }
   ],
   "source": [
    "print(mars_data.columns)"
   ]
  },
  {
   "cell_type": "code",
   "execution_count": 36,
   "metadata": {},
   "outputs": [],
   "source": [
    "# Data preprocessing \n",
    "# Drop 'sample_id' and separate features and target labels\n",
    "X = mars_data.drop(columns=['sample_id', 'basalt', 'carbonate', 'chloride', 'iron_oxide', 'oxalate', 'oxychlorine',\n",
    "                       'phyllosilicate', 'silicate', 'sulfate', 'sulfide'])\n",
    "y = mars_data[['basalt', 'carbonate', 'chloride', 'iron_oxide', 'oxalate', 'oxychlorine',\n",
    "          'phyllosilicate', 'silicate', 'sulfate', 'sulfide']]"
   ]
  },
  {
   "cell_type": "code",
   "execution_count": 37,
   "metadata": {},
   "outputs": [
    {
     "name": "stdout",
     "output_type": "stream",
     "text": [
      "(754, 48)\n",
      "(754, 10)\n"
     ]
    }
   ],
   "source": [
    "# Ensure we have correct dimensions\n",
    "print(X.shape)\n",
    "print(y.shape)"
   ]
  },
  {
   "cell_type": "code",
   "execution_count": 14,
   "metadata": {},
   "outputs": [],
   "source": [
    "# Split the data into training and test sets\n",
    "X_train, X_test, y_train, y_test = train_test_split(X, y, test_size=0.2, random_state=42)\n",
    "\n",
    "# Standardize the data\n",
    "scalar = StandardScaler()\n",
    "X_train = scalar.fit_transform(X_train)\n",
    "X_test = scalar.transform(X_test)"
   ]
  },
  {
   "cell_type": "markdown",
   "metadata": {},
   "source": [
    "## First Model\n",
    "\n",
    "1. Model Definition\n",
    "\n",
    "    The model is defined directly using `tf.keras.Sequential()`.\n",
    "    The architecture consists of **two hidden layers** (both with 64 units and ReLU activation), followed by an output layer with 10 units and a sigmoid activation function (for multilabel classification).\n",
    "\n",
    "    It uses `model.compile()` and `model.fit()` to compile and train the model.\n",
    "\n",
    "2. Training\n",
    "\n",
    "    The model is trained with a fixed dataset `(X_train, y_train)` for 20 `epochs` with a `batch size` of 32.\n",
    "    \n",
    "    There is no cross-validation involved in this training process.\n",
    "\n",
    "3. Evaluation Metrics\n",
    "\n",
    "    After training, the model is evaluated on a test set `(X_test, y_test)` for loss and accuracy using `model.evaluate()`.\n",
    "\n",
    "    It calculates `Hamming loss` separately after making predictions and converting them to binary using a threshold of 0.5.\n",
    "\n",
    "4. Model Evaluation and Reporting\n",
    "\n",
    "    After training, the model is directly evaluated on the test set and reports loss, accuracy, and Hamming loss.\n",
    "    It uses `.predict()` for predictions and rounds the output for binary classification.\n",
    "\n",
    "    For multi-label classification, use Hamming loss (good for multi-label accuracy at the label level). This metric works by comparing each predicted label with the actual label for each class (per sample). It counts how many times there is a mismatch (i.e., the prediction is wrong), then divides by the total number of label entries."
   ]
  },
  {
   "cell_type": "code",
   "execution_count": null,
   "metadata": {},
   "outputs": [],
   "source": [
    "# Creating a multilabel neural network using TensorFlow\n",
    "model = tf.keras.Sequential([\n",
    "    tf.keras.layers.Dense(64, activation='relu', input_shape=(48,)),  # Input layer with 48 features\n",
    "    tf.keras.layers.Dense(64, activation='relu'),  # Hidden layer\n",
    "    tf.keras.layers.Dense(10, activation='sigmoid')  # Output layer with 4 nodes and sigmoid activation for multilabel classification\n",
    "])\n",
    "\n",
    "# Compiling the model\n",
    "model.compile(optimizer='adam', loss='binary_crossentropy', metrics=['accuracy'])\n",
    "\n",
    "# Training the model\n",
    "model.fit(X_train, y_train, epochs=20, batch_size=32)"
   ]
  },
  {
   "cell_type": "code",
   "execution_count": 47,
   "metadata": {},
   "outputs": [
    {
     "name": "stdout",
     "output_type": "stream",
     "text": [
      "\u001b[1m5/5\u001b[0m \u001b[32m━━━━━━━━━━━━━━━━━━━━\u001b[0m\u001b[37m\u001b[0m \u001b[1m0s\u001b[0m 5ms/step \n",
      "\u001b[1m5/5\u001b[0m \u001b[32m━━━━━━━━━━━━━━━━━━━━\u001b[0m\u001b[37m\u001b[0m \u001b[1m0s\u001b[0m 839us/step - accuracy: 0.3261 - loss: 0.3424\n",
      "Loss: 0.34491172432899475\n",
      "Accuracy: 0.33112582564353943\n",
      "F1-Score: 0.25167838932462117\n",
      "Hamming Loss: 0.1337748344370861\n"
     ]
    }
   ],
   "source": [
    "# Making predictions\n",
    "y_pred = model.predict(X_test)\n",
    "y_pred_binary = (y_pred > 0.5).astype(int)  # Convert to binary predictions\n",
    "\n",
    "# Evaluating accuracy\n",
    "loss, accuracy = model.evaluate(X_test, y_test)\n",
    "print(f\"Loss: {loss}\")\n",
    "print(f\"Accuracy: {accuracy}\")\n",
    "\n",
    "# Calculating F1-Score (Macro average)\n",
    "f1 = f1_score(y_test, y_pred_binary, average='macro')\n",
    "print(f\"F1-Score: {f1}\")\n",
    "\n",
    "# Calculating Hamming Loss\n",
    "hamming = hamming_loss(y_test, y_pred_binary)\n",
    "print(f\"Hamming Loss: {hamming}\")"
   ]
  },
  {
   "cell_type": "markdown",
   "metadata": {},
   "source": [
    "1. Model Definition\n",
    "\n",
    "    The model is defined as a function `get_model()` that takes `n_inputs` (number of input features) and `n_outputs` (number of output labels) as arguments. \n",
    "    \n",
    "    Similar to the first, the architecture consists of two hidden layers and a sigmoid output layer.\n",
    "\n",
    "2. Training\n",
    "\n",
    "    The model is evaluated using Repeated K-Fold Cross-Validation with 10 splits and 3 repeats. This means that the training and evaluation are done multiple times on different train-test splits, providing a more robust performance assessment.\n",
    "\n",
    "    The model is trained for 100 epochs in each fold of the cross-validation process.\n",
    "\n",
    "3. Evaluation Metrics\n",
    "\n",
    "    The evaluation occurs for each fold in the cross-validation process, where it calculates:\n",
    "    Accuracy using `accuracy_score()`.\n",
    "    Hamming Loss using `hamming_loss()`.\n",
    "    F1-Score (macro average) using `f1_score()` from sklearn.\n",
    "\n",
    "    The average of these metrics is printed at the end, giving a more comprehensive performance overview across different splits.\n",
    "\n",
    "4. Model Evaluation and Reporting\n",
    "\n",
    "    The results are aggregated over multiple cross-validation splits, and it reports average accuracy, average Hamming loss, and average F1-score.\n",
    "    \n",
    "    Individual metrics for each fold are printed, making it possible to assess performance variability across different splits.\n",
    "\n"
   ]
  },
  {
   "cell_type": "code",
   "execution_count": null,
   "metadata": {},
   "outputs": [
    {
     "name": "stderr",
     "output_type": "stream",
     "text": [
      "c:\\Users\\saram\\anaconda3\\envs\\erdos_fall_2024\\Lib\\site-packages\\keras\\src\\layers\\core\\dense.py:87: UserWarning: Do not pass an `input_shape`/`input_dim` argument to a layer. When using Sequential models, prefer using an `Input(shape)` object as the first layer in the model instead.\n",
      "  super().__init__(activity_regularizer=activity_regularizer, **kwargs)\n"
     ]
    },
    {
     "name": "stdout",
     "output_type": "stream",
     "text": [
      "\u001b[1m3/3\u001b[0m \u001b[32m━━━━━━━━━━━━━━━━━━━━\u001b[0m\u001b[37m\u001b[0m \u001b[1m0s\u001b[0m 29ms/step\n",
      "> Accuracy: 0.592, Hamming Loss: 0.076, F1-Score: 0.707\n"
     ]
    },
    {
     "name": "stderr",
     "output_type": "stream",
     "text": [
      "c:\\Users\\saram\\anaconda3\\envs\\erdos_fall_2024\\Lib\\site-packages\\keras\\src\\layers\\core\\dense.py:87: UserWarning: Do not pass an `input_shape`/`input_dim` argument to a layer. When using Sequential models, prefer using an `Input(shape)` object as the first layer in the model instead.\n",
      "  super().__init__(activity_regularizer=activity_regularizer, **kwargs)\n"
     ]
    },
    {
     "name": "stdout",
     "output_type": "stream",
     "text": [
      "\u001b[1m3/3\u001b[0m \u001b[32m━━━━━━━━━━━━━━━━━━━━\u001b[0m\u001b[37m\u001b[0m \u001b[1m0s\u001b[0m 37ms/step\n",
      "> Accuracy: 0.487, Hamming Loss: 0.096, F1-Score: 0.656\n"
     ]
    },
    {
     "name": "stderr",
     "output_type": "stream",
     "text": [
      "c:\\Users\\saram\\anaconda3\\envs\\erdos_fall_2024\\Lib\\site-packages\\keras\\src\\layers\\core\\dense.py:87: UserWarning: Do not pass an `input_shape`/`input_dim` argument to a layer. When using Sequential models, prefer using an `Input(shape)` object as the first layer in the model instead.\n",
      "  super().__init__(activity_regularizer=activity_regularizer, **kwargs)\n"
     ]
    },
    {
     "name": "stdout",
     "output_type": "stream",
     "text": [
      "\u001b[1m3/3\u001b[0m \u001b[32m━━━━━━━━━━━━━━━━━━━━\u001b[0m\u001b[37m\u001b[0m \u001b[1m0s\u001b[0m 35ms/step\n",
      "> Accuracy: 0.447, Hamming Loss: 0.074, F1-Score: 0.664\n"
     ]
    },
    {
     "name": "stderr",
     "output_type": "stream",
     "text": [
      "c:\\Users\\saram\\anaconda3\\envs\\erdos_fall_2024\\Lib\\site-packages\\keras\\src\\layers\\core\\dense.py:87: UserWarning: Do not pass an `input_shape`/`input_dim` argument to a layer. When using Sequential models, prefer using an `Input(shape)` object as the first layer in the model instead.\n",
      "  super().__init__(activity_regularizer=activity_regularizer, **kwargs)\n"
     ]
    },
    {
     "name": "stdout",
     "output_type": "stream",
     "text": [
      "\u001b[1m3/3\u001b[0m \u001b[32m━━━━━━━━━━━━━━━━━━━━\u001b[0m\u001b[37m\u001b[0m \u001b[1m0s\u001b[0m 26ms/step\n",
      "> Accuracy: 0.513, Hamming Loss: 0.083, F1-Score: 0.721\n"
     ]
    },
    {
     "name": "stderr",
     "output_type": "stream",
     "text": [
      "c:\\Users\\saram\\anaconda3\\envs\\erdos_fall_2024\\Lib\\site-packages\\keras\\src\\layers\\core\\dense.py:87: UserWarning: Do not pass an `input_shape`/`input_dim` argument to a layer. When using Sequential models, prefer using an `Input(shape)` object as the first layer in the model instead.\n",
      "  super().__init__(activity_regularizer=activity_regularizer, **kwargs)\n"
     ]
    },
    {
     "name": "stdout",
     "output_type": "stream",
     "text": [
      "\u001b[1m3/3\u001b[0m \u001b[32m━━━━━━━━━━━━━━━━━━━━\u001b[0m\u001b[37m\u001b[0m \u001b[1m0s\u001b[0m 43ms/step\n",
      "> Accuracy: 0.533, Hamming Loss: 0.079, F1-Score: 0.737\n"
     ]
    },
    {
     "name": "stderr",
     "output_type": "stream",
     "text": [
      "c:\\Users\\saram\\anaconda3\\envs\\erdos_fall_2024\\Lib\\site-packages\\keras\\src\\layers\\core\\dense.py:87: UserWarning: Do not pass an `input_shape`/`input_dim` argument to a layer. When using Sequential models, prefer using an `Input(shape)` object as the first layer in the model instead.\n",
      "  super().__init__(activity_regularizer=activity_regularizer, **kwargs)\n"
     ]
    },
    {
     "name": "stdout",
     "output_type": "stream",
     "text": [
      "\u001b[1m3/3\u001b[0m \u001b[32m━━━━━━━━━━━━━━━━━━━━\u001b[0m\u001b[37m\u001b[0m \u001b[1m1s\u001b[0m 137ms/step\n",
      "> Accuracy: 0.467, Hamming Loss: 0.079, F1-Score: 0.699\n"
     ]
    },
    {
     "name": "stderr",
     "output_type": "stream",
     "text": [
      "c:\\Users\\saram\\anaconda3\\envs\\erdos_fall_2024\\Lib\\site-packages\\keras\\src\\layers\\core\\dense.py:87: UserWarning: Do not pass an `input_shape`/`input_dim` argument to a layer. When using Sequential models, prefer using an `Input(shape)` object as the first layer in the model instead.\n",
      "  super().__init__(activity_regularizer=activity_regularizer, **kwargs)\n"
     ]
    },
    {
     "name": "stdout",
     "output_type": "stream",
     "text": [
      "\u001b[1m3/3\u001b[0m \u001b[32m━━━━━━━━━━━━━━━━━━━━\u001b[0m\u001b[37m\u001b[0m \u001b[1m0s\u001b[0m 33ms/step\n",
      "> Accuracy: 0.480, Hamming Loss: 0.113, F1-Score: 0.584\n"
     ]
    },
    {
     "name": "stderr",
     "output_type": "stream",
     "text": [
      "c:\\Users\\saram\\anaconda3\\envs\\erdos_fall_2024\\Lib\\site-packages\\keras\\src\\layers\\core\\dense.py:87: UserWarning: Do not pass an `input_shape`/`input_dim` argument to a layer. When using Sequential models, prefer using an `Input(shape)` object as the first layer in the model instead.\n",
      "  super().__init__(activity_regularizer=activity_regularizer, **kwargs)\n"
     ]
    },
    {
     "name": "stdout",
     "output_type": "stream",
     "text": [
      "\u001b[1m3/3\u001b[0m \u001b[32m━━━━━━━━━━━━━━━━━━━━\u001b[0m\u001b[37m\u001b[0m \u001b[1m0s\u001b[0m 32ms/step\n",
      "> Accuracy: 0.387, Hamming Loss: 0.123, F1-Score: 0.578\n"
     ]
    },
    {
     "name": "stderr",
     "output_type": "stream",
     "text": [
      "c:\\Users\\saram\\anaconda3\\envs\\erdos_fall_2024\\Lib\\site-packages\\keras\\src\\layers\\core\\dense.py:87: UserWarning: Do not pass an `input_shape`/`input_dim` argument to a layer. When using Sequential models, prefer using an `Input(shape)` object as the first layer in the model instead.\n",
      "  super().__init__(activity_regularizer=activity_regularizer, **kwargs)\n"
     ]
    },
    {
     "name": "stdout",
     "output_type": "stream",
     "text": [
      "\u001b[1m3/3\u001b[0m \u001b[32m━━━━━━━━━━━━━━━━━━━━\u001b[0m\u001b[37m\u001b[0m \u001b[1m0s\u001b[0m 40ms/step\n",
      "> Accuracy: 0.533, Hamming Loss: 0.073, F1-Score: 0.767\n"
     ]
    },
    {
     "name": "stderr",
     "output_type": "stream",
     "text": [
      "c:\\Users\\saram\\anaconda3\\envs\\erdos_fall_2024\\Lib\\site-packages\\keras\\src\\layers\\core\\dense.py:87: UserWarning: Do not pass an `input_shape`/`input_dim` argument to a layer. When using Sequential models, prefer using an `Input(shape)` object as the first layer in the model instead.\n",
      "  super().__init__(activity_regularizer=activity_regularizer, **kwargs)\n"
     ]
    },
    {
     "name": "stdout",
     "output_type": "stream",
     "text": [
      "\u001b[1m3/3\u001b[0m \u001b[32m━━━━━━━━━━━━━━━━━━━━\u001b[0m\u001b[37m\u001b[0m \u001b[1m0s\u001b[0m 17ms/step\n",
      "> Accuracy: 0.613, Hamming Loss: 0.069, F1-Score: 0.793\n"
     ]
    },
    {
     "name": "stderr",
     "output_type": "stream",
     "text": [
      "c:\\Users\\saram\\anaconda3\\envs\\erdos_fall_2024\\Lib\\site-packages\\keras\\src\\layers\\core\\dense.py:87: UserWarning: Do not pass an `input_shape`/`input_dim` argument to a layer. When using Sequential models, prefer using an `Input(shape)` object as the first layer in the model instead.\n",
      "  super().__init__(activity_regularizer=activity_regularizer, **kwargs)\n"
     ]
    },
    {
     "name": "stdout",
     "output_type": "stream",
     "text": [
      "\u001b[1m3/3\u001b[0m \u001b[32m━━━━━━━━━━━━━━━━━━━━\u001b[0m\u001b[37m\u001b[0m \u001b[1m0s\u001b[0m 31ms/step\n",
      "> Accuracy: 0.513, Hamming Loss: 0.095, F1-Score: 0.744\n"
     ]
    },
    {
     "name": "stderr",
     "output_type": "stream",
     "text": [
      "c:\\Users\\saram\\anaconda3\\envs\\erdos_fall_2024\\Lib\\site-packages\\keras\\src\\layers\\core\\dense.py:87: UserWarning: Do not pass an `input_shape`/`input_dim` argument to a layer. When using Sequential models, prefer using an `Input(shape)` object as the first layer in the model instead.\n",
      "  super().__init__(activity_regularizer=activity_regularizer, **kwargs)\n"
     ]
    },
    {
     "name": "stdout",
     "output_type": "stream",
     "text": [
      "\u001b[1m3/3\u001b[0m \u001b[32m━━━━━━━━━━━━━━━━━━━━\u001b[0m\u001b[37m\u001b[0m \u001b[1m0s\u001b[0m 44ms/step\n",
      "> Accuracy: 0.434, Hamming Loss: 0.107, F1-Score: 0.557\n"
     ]
    },
    {
     "name": "stderr",
     "output_type": "stream",
     "text": [
      "c:\\Users\\saram\\anaconda3\\envs\\erdos_fall_2024\\Lib\\site-packages\\keras\\src\\layers\\core\\dense.py:87: UserWarning: Do not pass an `input_shape`/`input_dim` argument to a layer. When using Sequential models, prefer using an `Input(shape)` object as the first layer in the model instead.\n",
      "  super().__init__(activity_regularizer=activity_regularizer, **kwargs)\n"
     ]
    },
    {
     "name": "stdout",
     "output_type": "stream",
     "text": [
      "\u001b[1m3/3\u001b[0m \u001b[32m━━━━━━━━━━━━━━━━━━━━\u001b[0m\u001b[37m\u001b[0m \u001b[1m0s\u001b[0m 42ms/step\n",
      "> Accuracy: 0.474, Hamming Loss: 0.084, F1-Score: 0.616\n"
     ]
    },
    {
     "name": "stderr",
     "output_type": "stream",
     "text": [
      "c:\\Users\\saram\\anaconda3\\envs\\erdos_fall_2024\\Lib\\site-packages\\keras\\src\\layers\\core\\dense.py:87: UserWarning: Do not pass an `input_shape`/`input_dim` argument to a layer. When using Sequential models, prefer using an `Input(shape)` object as the first layer in the model instead.\n",
      "  super().__init__(activity_regularizer=activity_regularizer, **kwargs)\n"
     ]
    },
    {
     "name": "stdout",
     "output_type": "stream",
     "text": [
      "\u001b[1m3/3\u001b[0m \u001b[32m━━━━━━━━━━━━━━━━━━━━\u001b[0m\u001b[37m\u001b[0m \u001b[1m0s\u001b[0m 32ms/step\n",
      "> Accuracy: 0.526, Hamming Loss: 0.068, F1-Score: 0.719\n"
     ]
    },
    {
     "name": "stderr",
     "output_type": "stream",
     "text": [
      "c:\\Users\\saram\\anaconda3\\envs\\erdos_fall_2024\\Lib\\site-packages\\keras\\src\\layers\\core\\dense.py:87: UserWarning: Do not pass an `input_shape`/`input_dim` argument to a layer. When using Sequential models, prefer using an `Input(shape)` object as the first layer in the model instead.\n",
      "  super().__init__(activity_regularizer=activity_regularizer, **kwargs)\n"
     ]
    },
    {
     "name": "stdout",
     "output_type": "stream",
     "text": [
      "\u001b[1m3/3\u001b[0m \u001b[32m━━━━━━━━━━━━━━━━━━━━\u001b[0m\u001b[37m\u001b[0m \u001b[1m0s\u001b[0m 85ms/step\n",
      "> Accuracy: 0.520, Hamming Loss: 0.081, F1-Score: 0.718\n"
     ]
    },
    {
     "name": "stderr",
     "output_type": "stream",
     "text": [
      "c:\\Users\\saram\\anaconda3\\envs\\erdos_fall_2024\\Lib\\site-packages\\keras\\src\\layers\\core\\dense.py:87: UserWarning: Do not pass an `input_shape`/`input_dim` argument to a layer. When using Sequential models, prefer using an `Input(shape)` object as the first layer in the model instead.\n",
      "  super().__init__(activity_regularizer=activity_regularizer, **kwargs)\n"
     ]
    },
    {
     "name": "stdout",
     "output_type": "stream",
     "text": [
      "\u001b[1m3/3\u001b[0m \u001b[32m━━━━━━━━━━━━━━━━━━━━\u001b[0m\u001b[37m\u001b[0m \u001b[1m0s\u001b[0m 35ms/step\n",
      "> Accuracy: 0.520, Hamming Loss: 0.081, F1-Score: 0.736\n"
     ]
    },
    {
     "name": "stderr",
     "output_type": "stream",
     "text": [
      "c:\\Users\\saram\\anaconda3\\envs\\erdos_fall_2024\\Lib\\site-packages\\keras\\src\\layers\\core\\dense.py:87: UserWarning: Do not pass an `input_shape`/`input_dim` argument to a layer. When using Sequential models, prefer using an `Input(shape)` object as the first layer in the model instead.\n",
      "  super().__init__(activity_regularizer=activity_regularizer, **kwargs)\n"
     ]
    },
    {
     "name": "stdout",
     "output_type": "stream",
     "text": [
      "\u001b[1m3/3\u001b[0m \u001b[32m━━━━━━━━━━━━━━━━━━━━\u001b[0m\u001b[37m\u001b[0m \u001b[1m0s\u001b[0m 44ms/step\n",
      "> Accuracy: 0.533, Hamming Loss: 0.080, F1-Score: 0.675\n"
     ]
    },
    {
     "name": "stderr",
     "output_type": "stream",
     "text": [
      "c:\\Users\\saram\\anaconda3\\envs\\erdos_fall_2024\\Lib\\site-packages\\keras\\src\\layers\\core\\dense.py:87: UserWarning: Do not pass an `input_shape`/`input_dim` argument to a layer. When using Sequential models, prefer using an `Input(shape)` object as the first layer in the model instead.\n",
      "  super().__init__(activity_regularizer=activity_regularizer, **kwargs)\n"
     ]
    },
    {
     "name": "stdout",
     "output_type": "stream",
     "text": [
      "\u001b[1m3/3\u001b[0m \u001b[32m━━━━━━━━━━━━━━━━━━━━\u001b[0m\u001b[37m\u001b[0m \u001b[1m0s\u001b[0m 19ms/step\n",
      "> Accuracy: 0.547, Hamming Loss: 0.077, F1-Score: 0.714\n"
     ]
    },
    {
     "name": "stderr",
     "output_type": "stream",
     "text": [
      "c:\\Users\\saram\\anaconda3\\envs\\erdos_fall_2024\\Lib\\site-packages\\keras\\src\\layers\\core\\dense.py:87: UserWarning: Do not pass an `input_shape`/`input_dim` argument to a layer. When using Sequential models, prefer using an `Input(shape)` object as the first layer in the model instead.\n",
      "  super().__init__(activity_regularizer=activity_regularizer, **kwargs)\n"
     ]
    },
    {
     "name": "stdout",
     "output_type": "stream",
     "text": [
      "\u001b[1m3/3\u001b[0m \u001b[32m━━━━━━━━━━━━━━━━━━━━\u001b[0m\u001b[37m\u001b[0m \u001b[1m0s\u001b[0m 34ms/step\n",
      "> Accuracy: 0.480, Hamming Loss: 0.087, F1-Score: 0.711\n"
     ]
    },
    {
     "name": "stderr",
     "output_type": "stream",
     "text": [
      "c:\\Users\\saram\\anaconda3\\envs\\erdos_fall_2024\\Lib\\site-packages\\keras\\src\\layers\\core\\dense.py:87: UserWarning: Do not pass an `input_shape`/`input_dim` argument to a layer. When using Sequential models, prefer using an `Input(shape)` object as the first layer in the model instead.\n",
      "  super().__init__(activity_regularizer=activity_regularizer, **kwargs)\n"
     ]
    },
    {
     "name": "stdout",
     "output_type": "stream",
     "text": [
      "\u001b[1m3/3\u001b[0m \u001b[32m━━━━━━━━━━━━━━━━━━━━\u001b[0m\u001b[37m\u001b[0m \u001b[1m0s\u001b[0m 26ms/step\n",
      "> Accuracy: 0.587, Hamming Loss: 0.085, F1-Score: 0.682\n"
     ]
    },
    {
     "name": "stderr",
     "output_type": "stream",
     "text": [
      "c:\\Users\\saram\\anaconda3\\envs\\erdos_fall_2024\\Lib\\site-packages\\keras\\src\\layers\\core\\dense.py:87: UserWarning: Do not pass an `input_shape`/`input_dim` argument to a layer. When using Sequential models, prefer using an `Input(shape)` object as the first layer in the model instead.\n",
      "  super().__init__(activity_regularizer=activity_regularizer, **kwargs)\n"
     ]
    },
    {
     "name": "stdout",
     "output_type": "stream",
     "text": [
      "\u001b[1m3/3\u001b[0m \u001b[32m━━━━━━━━━━━━━━━━━━━━\u001b[0m\u001b[37m\u001b[0m \u001b[1m0s\u001b[0m 32ms/step\n",
      "> Accuracy: 0.382, Hamming Loss: 0.137, F1-Score: 0.604\n"
     ]
    },
    {
     "name": "stderr",
     "output_type": "stream",
     "text": [
      "c:\\Users\\saram\\anaconda3\\envs\\erdos_fall_2024\\Lib\\site-packages\\keras\\src\\layers\\core\\dense.py:87: UserWarning: Do not pass an `input_shape`/`input_dim` argument to a layer. When using Sequential models, prefer using an `Input(shape)` object as the first layer in the model instead.\n",
      "  super().__init__(activity_regularizer=activity_regularizer, **kwargs)\n"
     ]
    },
    {
     "name": "stdout",
     "output_type": "stream",
     "text": [
      "\u001b[1m3/3\u001b[0m \u001b[32m━━━━━━━━━━━━━━━━━━━━\u001b[0m\u001b[37m\u001b[0m \u001b[1m0s\u001b[0m 30ms/step\n",
      "> Accuracy: 0.421, Hamming Loss: 0.105, F1-Score: 0.533\n"
     ]
    },
    {
     "name": "stderr",
     "output_type": "stream",
     "text": [
      "c:\\Users\\saram\\anaconda3\\envs\\erdos_fall_2024\\Lib\\site-packages\\keras\\src\\layers\\core\\dense.py:87: UserWarning: Do not pass an `input_shape`/`input_dim` argument to a layer. When using Sequential models, prefer using an `Input(shape)` object as the first layer in the model instead.\n",
      "  super().__init__(activity_regularizer=activity_regularizer, **kwargs)\n"
     ]
    },
    {
     "name": "stdout",
     "output_type": "stream",
     "text": [
      "\u001b[1m3/3\u001b[0m \u001b[32m━━━━━━━━━━━━━━━━━━━━\u001b[0m\u001b[37m\u001b[0m \u001b[1m0s\u001b[0m 47ms/step\n",
      "> Accuracy: 0.461, Hamming Loss: 0.093, F1-Score: 0.712\n"
     ]
    },
    {
     "name": "stderr",
     "output_type": "stream",
     "text": [
      "c:\\Users\\saram\\anaconda3\\envs\\erdos_fall_2024\\Lib\\site-packages\\keras\\src\\layers\\core\\dense.py:87: UserWarning: Do not pass an `input_shape`/`input_dim` argument to a layer. When using Sequential models, prefer using an `Input(shape)` object as the first layer in the model instead.\n",
      "  super().__init__(activity_regularizer=activity_regularizer, **kwargs)\n"
     ]
    },
    {
     "name": "stdout",
     "output_type": "stream",
     "text": [
      "\u001b[1m3/3\u001b[0m \u001b[32m━━━━━━━━━━━━━━━━━━━━\u001b[0m\u001b[37m\u001b[0m \u001b[1m0s\u001b[0m 52ms/step\n",
      "> Accuracy: 0.487, Hamming Loss: 0.074, F1-Score: 0.695\n"
     ]
    },
    {
     "name": "stderr",
     "output_type": "stream",
     "text": [
      "c:\\Users\\saram\\anaconda3\\envs\\erdos_fall_2024\\Lib\\site-packages\\keras\\src\\layers\\core\\dense.py:87: UserWarning: Do not pass an `input_shape`/`input_dim` argument to a layer. When using Sequential models, prefer using an `Input(shape)` object as the first layer in the model instead.\n",
      "  super().__init__(activity_regularizer=activity_regularizer, **kwargs)\n"
     ]
    },
    {
     "name": "stdout",
     "output_type": "stream",
     "text": [
      "\u001b[1m3/3\u001b[0m \u001b[32m━━━━━━━━━━━━━━━━━━━━\u001b[0m\u001b[37m\u001b[0m \u001b[1m0s\u001b[0m 24ms/step\n",
      "> Accuracy: 0.453, Hamming Loss: 0.093, F1-Score: 0.676\n"
     ]
    },
    {
     "name": "stderr",
     "output_type": "stream",
     "text": [
      "c:\\Users\\saram\\anaconda3\\envs\\erdos_fall_2024\\Lib\\site-packages\\keras\\src\\layers\\core\\dense.py:87: UserWarning: Do not pass an `input_shape`/`input_dim` argument to a layer. When using Sequential models, prefer using an `Input(shape)` object as the first layer in the model instead.\n",
      "  super().__init__(activity_regularizer=activity_regularizer, **kwargs)\n"
     ]
    },
    {
     "name": "stdout",
     "output_type": "stream",
     "text": [
      "\u001b[1m3/3\u001b[0m \u001b[32m━━━━━━━━━━━━━━━━━━━━\u001b[0m\u001b[37m\u001b[0m \u001b[1m0s\u001b[0m 34ms/step\n",
      "> Accuracy: 0.587, Hamming Loss: 0.063, F1-Score: 0.734\n"
     ]
    },
    {
     "name": "stderr",
     "output_type": "stream",
     "text": [
      "c:\\Users\\saram\\anaconda3\\envs\\erdos_fall_2024\\Lib\\site-packages\\keras\\src\\layers\\core\\dense.py:87: UserWarning: Do not pass an `input_shape`/`input_dim` argument to a layer. When using Sequential models, prefer using an `Input(shape)` object as the first layer in the model instead.\n",
      "  super().__init__(activity_regularizer=activity_regularizer, **kwargs)\n"
     ]
    },
    {
     "name": "stdout",
     "output_type": "stream",
     "text": [
      "\u001b[1m3/3\u001b[0m \u001b[32m━━━━━━━━━━━━━━━━━━━━\u001b[0m\u001b[37m\u001b[0m \u001b[1m0s\u001b[0m 39ms/step\n",
      "> Accuracy: 0.467, Hamming Loss: 0.093, F1-Score: 0.646\n"
     ]
    },
    {
     "name": "stderr",
     "output_type": "stream",
     "text": [
      "c:\\Users\\saram\\anaconda3\\envs\\erdos_fall_2024\\Lib\\site-packages\\keras\\src\\layers\\core\\dense.py:87: UserWarning: Do not pass an `input_shape`/`input_dim` argument to a layer. When using Sequential models, prefer using an `Input(shape)` object as the first layer in the model instead.\n",
      "  super().__init__(activity_regularizer=activity_regularizer, **kwargs)\n"
     ]
    },
    {
     "name": "stdout",
     "output_type": "stream",
     "text": [
      "\u001b[1m3/3\u001b[0m \u001b[32m━━━━━━━━━━━━━━━━━━━━\u001b[0m\u001b[37m\u001b[0m \u001b[1m0s\u001b[0m 32ms/step\n",
      "> Accuracy: 0.627, Hamming Loss: 0.060, F1-Score: 0.795\n"
     ]
    },
    {
     "name": "stderr",
     "output_type": "stream",
     "text": [
      "c:\\Users\\saram\\anaconda3\\envs\\erdos_fall_2024\\Lib\\site-packages\\keras\\src\\layers\\core\\dense.py:87: UserWarning: Do not pass an `input_shape`/`input_dim` argument to a layer. When using Sequential models, prefer using an `Input(shape)` object as the first layer in the model instead.\n",
      "  super().__init__(activity_regularizer=activity_regularizer, **kwargs)\n"
     ]
    },
    {
     "name": "stdout",
     "output_type": "stream",
     "text": [
      "\u001b[1m3/3\u001b[0m \u001b[32m━━━━━━━━━━━━━━━━━━━━\u001b[0m\u001b[37m\u001b[0m \u001b[1m0s\u001b[0m 34ms/step\n",
      "> Accuracy: 0.613, Hamming Loss: 0.059, F1-Score: 0.756\n"
     ]
    },
    {
     "name": "stderr",
     "output_type": "stream",
     "text": [
      "c:\\Users\\saram\\anaconda3\\envs\\erdos_fall_2024\\Lib\\site-packages\\keras\\src\\layers\\core\\dense.py:87: UserWarning: Do not pass an `input_shape`/`input_dim` argument to a layer. When using Sequential models, prefer using an `Input(shape)` object as the first layer in the model instead.\n",
      "  super().__init__(activity_regularizer=activity_regularizer, **kwargs)\n"
     ]
    },
    {
     "name": "stdout",
     "output_type": "stream",
     "text": [
      "\u001b[1m3/3\u001b[0m \u001b[32m━━━━━━━━━━━━━━━━━━━━\u001b[0m\u001b[37m\u001b[0m \u001b[1m0s\u001b[0m 27ms/step\n",
      "> Accuracy: 0.560, Hamming Loss: 0.087, F1-Score: 0.690\n",
      "Average Accuracy: 0.508\n",
      "Average Hamming Loss: 0.086\n",
      "Average F1-Score: 0.687\n"
     ]
    }
   ],
   "source": [
    "# Define the model\n",
    "def get_model(n_inputs, n_outputs):\n",
    "    model = Sequential()\n",
    "    model.add(Dense(64, input_dim=n_inputs, activation='relu'))  # First hidden layer (64 units, ReLU)\n",
    "    model.add(Dense(64, activation='softmax'))  # Second hidden layer (64 units, ReLU)\n",
    "    model.add(Dense(n_outputs, activation='sigmoid'))  # Output layer with sigmoid activation for multilabel classification\n",
    "    model.compile(loss='binary_crossentropy', optimizer='adam', metrics=['accuracy'])\n",
    "    return model\n",
    "\n",
    "# Evaluate the model using repeated k-fold cross-validation\n",
    "def evaluate_model(X, y):\n",
    "    results = {\n",
    "        'accuracy': [],\n",
    "        'hamming_loss': [],\n",
    "        'f1_score': []\n",
    "    }\n",
    "    n_inputs, n_outputs = X.shape[1], y.shape[1]\n",
    "    \n",
    "    # Define evaluation procedure\n",
    "    cv = RepeatedKFold(n_splits=10, n_repeats=3, random_state=1)\n",
    "    \n",
    "    # Enumerate folds\n",
    "    for train_ix, test_ix in cv.split(X):\n",
    "        # Prepare data\n",
    "        X_train, X_test = X[train_ix], X[test_ix]\n",
    "        y_train, y_test = y[train_ix], y[test_ix]\n",
    "        \n",
    "        # Define the model\n",
    "        model = get_model(n_inputs, n_outputs)\n",
    "        \n",
    "        # Fit the model\n",
    "        model.fit(X_train, y_train, verbose=0, epochs=100)\n",
    "        \n",
    "        # Make predictions\n",
    "        yhat = model.predict(X_test)\n",
    "        \n",
    "        # Round probabilities to class labels\n",
    "        yhat = yhat.round()\n",
    "        \n",
    "        # Calculate accuracy\n",
    "        acc = accuracy_score(y_test, yhat)\n",
    "        results['accuracy'].append(acc)\n",
    "        \n",
    "        # Calculate Hamming loss\n",
    "        hamming = hamming_loss(y_test, yhat)\n",
    "        results['hamming_loss'].append(hamming)\n",
    "        \n",
    "        # Calculate F1-Score (Macro average)\n",
    "        f1 = f1_score(y_test, yhat, average='macro')\n",
    "        results['f1_score'].append(f1)\n",
    "        \n",
    "        # Print individual metrics for the fold\n",
    "        print(f'> Accuracy: {acc:.3f}, Hamming Loss: {hamming:.3f}, F1-Score: {f1:.3f}')\n",
    "    \n",
    "    return results\n",
    "\n",
    "# Ensure X and y are numpy arrays\n",
    "if not isinstance(X, np.ndarray):\n",
    "    X = X.to_numpy()\n",
    "\n",
    "if not isinstance(y, np.ndarray):\n",
    "    y = y.to_numpy()\n",
    "\n",
    "# Evaluate the model\n",
    "results = evaluate_model(X, y)\n",
    "\n",
    "# Summarize performance\n",
    "print(f'Average Accuracy: {np.mean(results[\"accuracy\"]):.3f}')\n",
    "print(f'Average Hamming Loss: {np.mean(results[\"hamming_loss\"]):.3f}')\n",
    "print(f'Average F1-Score: {np.mean(results[\"f1_score\"]):.3f}')"
   ]
  },
  {
   "cell_type": "markdown",
   "metadata": {},
   "source": [
    "Comparing the two models directly is not entirely fair due to differences in evaluation methods. The first model uses a single train-test split, which may lead to unreliable results depending on the split, while the second model employs cross-validation (Repeated K-Fold), offering a better performance estimate. \n",
    "\n",
    "The second model averages metrics across multiple splits, making its evaluation more stable, while the first model's results can vary significantly. Therefore, the second model provides a more accurate assessment of performance and generalization, making direct comparison misleading."
   ]
  },
  {
   "cell_type": "markdown",
   "metadata": {},
   "source": [
    "## References:\n",
    "\n",
    "- [Multi-Label Classification in Python](http://scikit.ml/index.html)\n",
    "- [Multi-label deep learning with scikit-multilearn](http://scikit.ml/multilabeldnn.html#Multi-class-Keras-classifier)\n",
    "- [Multi-Class Classification Tutorial with the Keras Deep Learning Library](https://machinelearningmastery.com/multi-class-classification-tutorial-keras-deep-learning-library/)\n",
    "- [Hamming Loss](https://scikit-learn.org/1.5/modules/generated/sklearn.metrics.hamming_loss.html)\n",
    "- [Multi-Label Classification with Deep Learning](https://machinelearningmastery.com/multi-label-classification-with-deep-learning/)\n"
   ]
  }
 ],
 "metadata": {
  "kernelspec": {
   "display_name": "erdos_fall_2024",
   "language": "python",
   "name": "python3"
  },
  "language_info": {
   "codemirror_mode": {
    "name": "ipython",
    "version": 3
   },
   "file_extension": ".py",
   "mimetype": "text/x-python",
   "name": "python",
   "nbconvert_exporter": "python",
   "pygments_lexer": "ipython3",
   "version": "3.12.5"
  }
 },
 "nbformat": 4,
 "nbformat_minor": 2
}
