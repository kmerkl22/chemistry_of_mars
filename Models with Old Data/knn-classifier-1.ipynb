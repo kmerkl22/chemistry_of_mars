{
 "cells": [
  {
   "cell_type": "markdown",
   "metadata": {},
   "source": [
    "# I will create a K-Nearest Neighbors classifer model"
   ]
  },
  {
   "cell_type": "code",
   "execution_count": 1,
   "metadata": {},
   "outputs": [],
   "source": [
    "# Import the necessary libraries \n",
    "import numpy as np\n",
    "import pandas as pd \n",
    "from sklearn.neighbors import KNeighborsClassifier\n",
    "from sklearn.linear_model import LogisticRegression\n",
    "from sklearn.metrics import make_scorer, log_loss\n",
    "from sklearn.model_selection import train_test_split, cross_val_score\n",
    "from sklearn.preprocessing import StandardScaler"
   ]
  },
  {
   "cell_type": "code",
   "execution_count": 2,
   "metadata": {},
   "outputs": [
    {
     "data": {
      "text/html": [
       "<div>\n",
       "<style scoped>\n",
       "    .dataframe tbody tr th:only-of-type {\n",
       "        vertical-align: middle;\n",
       "    }\n",
       "\n",
       "    .dataframe tbody tr th {\n",
       "        vertical-align: top;\n",
       "    }\n",
       "\n",
       "    .dataframe thead th {\n",
       "        text-align: right;\n",
       "    }\n",
       "</style>\n",
       "<table border=\"1\" class=\"dataframe\">\n",
       "  <thead>\n",
       "    <tr style=\"text-align: right;\">\n",
       "      <th></th>\n",
       "      <th>sample_id</th>\n",
       "      <th>basalt</th>\n",
       "      <th>carbonate</th>\n",
       "      <th>chloride</th>\n",
       "      <th>iron_oxide</th>\n",
       "      <th>oxalate</th>\n",
       "      <th>oxychlorine</th>\n",
       "      <th>phyllosilicate</th>\n",
       "      <th>silicate</th>\n",
       "      <th>sulfate</th>\n",
       "      <th>...</th>\n",
       "      <th>3_ratio_peak_abund</th>\n",
       "      <th>3_ratio_meanstd_abund</th>\n",
       "      <th>4_ratio</th>\n",
       "      <th>4_ratio_peak_temp</th>\n",
       "      <th>4_ratio_peak_abund</th>\n",
       "      <th>4_ratio_meanstd_abund</th>\n",
       "      <th>5_ratio</th>\n",
       "      <th>5_ratio_peak_temp</th>\n",
       "      <th>5_ratio_peak_abund</th>\n",
       "      <th>5_ratio_meanstd_abund</th>\n",
       "    </tr>\n",
       "    <tr>\n",
       "      <th>sample_id</th>\n",
       "      <th></th>\n",
       "      <th></th>\n",
       "      <th></th>\n",
       "      <th></th>\n",
       "      <th></th>\n",
       "      <th></th>\n",
       "      <th></th>\n",
       "      <th></th>\n",
       "      <th></th>\n",
       "      <th></th>\n",
       "      <th></th>\n",
       "      <th></th>\n",
       "      <th></th>\n",
       "      <th></th>\n",
       "      <th></th>\n",
       "      <th></th>\n",
       "      <th></th>\n",
       "      <th></th>\n",
       "      <th></th>\n",
       "      <th></th>\n",
       "      <th></th>\n",
       "    </tr>\n",
       "  </thead>\n",
       "  <tbody>\n",
       "    <tr>\n",
       "      <th>S0000</th>\n",
       "      <td>S0000</td>\n",
       "      <td>0</td>\n",
       "      <td>0</td>\n",
       "      <td>0</td>\n",
       "      <td>0</td>\n",
       "      <td>0</td>\n",
       "      <td>0</td>\n",
       "      <td>0</td>\n",
       "      <td>0</td>\n",
       "      <td>1</td>\n",
       "      <td>...</td>\n",
       "      <td>0.024563</td>\n",
       "      <td>0.009736</td>\n",
       "      <td>28.0</td>\n",
       "      <td>35.420</td>\n",
       "      <td>0.010877</td>\n",
       "      <td>0.009101</td>\n",
       "      <td>19.0</td>\n",
       "      <td>105.458</td>\n",
       "      <td>0.006600</td>\n",
       "      <td>0.002841</td>\n",
       "    </tr>\n",
       "    <tr>\n",
       "      <th>S0001</th>\n",
       "      <td>S0001</td>\n",
       "      <td>0</td>\n",
       "      <td>1</td>\n",
       "      <td>0</td>\n",
       "      <td>0</td>\n",
       "      <td>0</td>\n",
       "      <td>0</td>\n",
       "      <td>0</td>\n",
       "      <td>0</td>\n",
       "      <td>0</td>\n",
       "      <td>...</td>\n",
       "      <td>0.033209</td>\n",
       "      <td>0.024006</td>\n",
       "      <td>16.0</td>\n",
       "      <td>497.404</td>\n",
       "      <td>0.093082</td>\n",
       "      <td>0.020585</td>\n",
       "      <td>18.0</td>\n",
       "      <td>-60.370</td>\n",
       "      <td>0.030234</td>\n",
       "      <td>0.019214</td>\n",
       "    </tr>\n",
       "    <tr>\n",
       "      <th>S0002</th>\n",
       "      <td>S0002</td>\n",
       "      <td>0</td>\n",
       "      <td>0</td>\n",
       "      <td>0</td>\n",
       "      <td>0</td>\n",
       "      <td>0</td>\n",
       "      <td>1</td>\n",
       "      <td>0</td>\n",
       "      <td>0</td>\n",
       "      <td>0</td>\n",
       "      <td>...</td>\n",
       "      <td>0.294738</td>\n",
       "      <td>0.075850</td>\n",
       "      <td>16.0</td>\n",
       "      <td>545.304</td>\n",
       "      <td>0.040446</td>\n",
       "      <td>0.013012</td>\n",
       "      <td>1.0</td>\n",
       "      <td>145.673</td>\n",
       "      <td>0.004003</td>\n",
       "      <td>0.001801</td>\n",
       "    </tr>\n",
       "    <tr>\n",
       "      <th>S0003</th>\n",
       "      <td>S0003</td>\n",
       "      <td>0</td>\n",
       "      <td>1</td>\n",
       "      <td>0</td>\n",
       "      <td>1</td>\n",
       "      <td>0</td>\n",
       "      <td>0</td>\n",
       "      <td>0</td>\n",
       "      <td>0</td>\n",
       "      <td>1</td>\n",
       "      <td>...</td>\n",
       "      <td>0.260027</td>\n",
       "      <td>0.061956</td>\n",
       "      <td>28.0</td>\n",
       "      <td>593.222</td>\n",
       "      <td>0.081701</td>\n",
       "      <td>0.031606</td>\n",
       "      <td>16.0</td>\n",
       "      <td>593.222</td>\n",
       "      <td>0.083077</td>\n",
       "      <td>0.028375</td>\n",
       "    </tr>\n",
       "    <tr>\n",
       "      <th>S0004</th>\n",
       "      <td>S0004</td>\n",
       "      <td>0</td>\n",
       "      <td>0</td>\n",
       "      <td>0</td>\n",
       "      <td>1</td>\n",
       "      <td>0</td>\n",
       "      <td>1</td>\n",
       "      <td>1</td>\n",
       "      <td>0</td>\n",
       "      <td>0</td>\n",
       "      <td>...</td>\n",
       "      <td>0.238290</td>\n",
       "      <td>0.082294</td>\n",
       "      <td>16.0</td>\n",
       "      <td>471.733</td>\n",
       "      <td>0.084732</td>\n",
       "      <td>0.026218</td>\n",
       "      <td>44.0</td>\n",
       "      <td>333.273</td>\n",
       "      <td>0.029998</td>\n",
       "      <td>0.013378</td>\n",
       "    </tr>\n",
       "    <tr>\n",
       "      <th>...</th>\n",
       "      <td>...</td>\n",
       "      <td>...</td>\n",
       "      <td>...</td>\n",
       "      <td>...</td>\n",
       "      <td>...</td>\n",
       "      <td>...</td>\n",
       "      <td>...</td>\n",
       "      <td>...</td>\n",
       "      <td>...</td>\n",
       "      <td>...</td>\n",
       "      <td>...</td>\n",
       "      <td>...</td>\n",
       "      <td>...</td>\n",
       "      <td>...</td>\n",
       "      <td>...</td>\n",
       "      <td>...</td>\n",
       "      <td>...</td>\n",
       "      <td>...</td>\n",
       "      <td>...</td>\n",
       "      <td>...</td>\n",
       "      <td>...</td>\n",
       "    </tr>\n",
       "    <tr>\n",
       "      <th>S0749</th>\n",
       "      <td>S0749</td>\n",
       "      <td>0</td>\n",
       "      <td>0</td>\n",
       "      <td>0</td>\n",
       "      <td>0</td>\n",
       "      <td>0</td>\n",
       "      <td>0</td>\n",
       "      <td>0</td>\n",
       "      <td>0</td>\n",
       "      <td>0</td>\n",
       "      <td>...</td>\n",
       "      <td>0.270481</td>\n",
       "      <td>0.187613</td>\n",
       "      <td>28.0</td>\n",
       "      <td>523.057</td>\n",
       "      <td>0.130122</td>\n",
       "      <td>0.079981</td>\n",
       "      <td>16.0</td>\n",
       "      <td>228.295</td>\n",
       "      <td>0.082464</td>\n",
       "      <td>0.057972</td>\n",
       "    </tr>\n",
       "    <tr>\n",
       "      <th>S0750</th>\n",
       "      <td>S0750</td>\n",
       "      <td>0</td>\n",
       "      <td>0</td>\n",
       "      <td>0</td>\n",
       "      <td>0</td>\n",
       "      <td>0</td>\n",
       "      <td>0</td>\n",
       "      <td>1</td>\n",
       "      <td>0</td>\n",
       "      <td>0</td>\n",
       "      <td>...</td>\n",
       "      <td>0.403334</td>\n",
       "      <td>0.152057</td>\n",
       "      <td>32.0</td>\n",
       "      <td>906.311</td>\n",
       "      <td>0.158759</td>\n",
       "      <td>0.122547</td>\n",
       "      <td>16.0</td>\n",
       "      <td>664.846</td>\n",
       "      <td>0.079410</td>\n",
       "      <td>0.041182</td>\n",
       "    </tr>\n",
       "    <tr>\n",
       "      <th>S0751</th>\n",
       "      <td>S0751</td>\n",
       "      <td>0</td>\n",
       "      <td>0</td>\n",
       "      <td>0</td>\n",
       "      <td>0</td>\n",
       "      <td>0</td>\n",
       "      <td>0</td>\n",
       "      <td>0</td>\n",
       "      <td>1</td>\n",
       "      <td>0</td>\n",
       "      <td>...</td>\n",
       "      <td>0.261788</td>\n",
       "      <td>0.143669</td>\n",
       "      <td>28.0</td>\n",
       "      <td>-60.026</td>\n",
       "      <td>0.065964</td>\n",
       "      <td>0.068941</td>\n",
       "      <td>32.0</td>\n",
       "      <td>96.019</td>\n",
       "      <td>0.032240</td>\n",
       "      <td>0.019636</td>\n",
       "    </tr>\n",
       "    <tr>\n",
       "      <th>S0752</th>\n",
       "      <td>S0752</td>\n",
       "      <td>0</td>\n",
       "      <td>0</td>\n",
       "      <td>0</td>\n",
       "      <td>1</td>\n",
       "      <td>0</td>\n",
       "      <td>0</td>\n",
       "      <td>0</td>\n",
       "      <td>0</td>\n",
       "      <td>0</td>\n",
       "      <td>...</td>\n",
       "      <td>0.086638</td>\n",
       "      <td>0.051900</td>\n",
       "      <td>1.0</td>\n",
       "      <td>259.552</td>\n",
       "      <td>0.029574</td>\n",
       "      <td>0.018446</td>\n",
       "      <td>36.0</td>\n",
       "      <td>489.092</td>\n",
       "      <td>0.027185</td>\n",
       "      <td>0.016657</td>\n",
       "    </tr>\n",
       "    <tr>\n",
       "      <th>S0753</th>\n",
       "      <td>S0753</td>\n",
       "      <td>1</td>\n",
       "      <td>0</td>\n",
       "      <td>0</td>\n",
       "      <td>0</td>\n",
       "      <td>0</td>\n",
       "      <td>1</td>\n",
       "      <td>0</td>\n",
       "      <td>0</td>\n",
       "      <td>0</td>\n",
       "      <td>...</td>\n",
       "      <td>0.047573</td>\n",
       "      <td>0.025885</td>\n",
       "      <td>17.0</td>\n",
       "      <td>600.968</td>\n",
       "      <td>0.012386</td>\n",
       "      <td>0.006742</td>\n",
       "      <td>28.0</td>\n",
       "      <td>566.757</td>\n",
       "      <td>0.002901</td>\n",
       "      <td>0.001512</td>\n",
       "    </tr>\n",
       "  </tbody>\n",
       "</table>\n",
       "<p>754 rows × 31 columns</p>\n",
       "</div>"
      ],
      "text/plain": [
       "          sample_id  basalt  carbonate  chloride  iron_oxide  oxalate  \\\n",
       "sample_id                                                               \n",
       "S0000         S0000       0          0         0           0        0   \n",
       "S0001         S0001       0          1         0           0        0   \n",
       "S0002         S0002       0          0         0           0        0   \n",
       "S0003         S0003       0          1         0           1        0   \n",
       "S0004         S0004       0          0         0           1        0   \n",
       "...             ...     ...        ...       ...         ...      ...   \n",
       "S0749         S0749       0          0         0           0        0   \n",
       "S0750         S0750       0          0         0           0        0   \n",
       "S0751         S0751       0          0         0           0        0   \n",
       "S0752         S0752       0          0         0           1        0   \n",
       "S0753         S0753       1          0         0           0        0   \n",
       "\n",
       "           oxychlorine  phyllosilicate  silicate  sulfate  ...  \\\n",
       "sample_id                                                  ...   \n",
       "S0000                0               0         0        1  ...   \n",
       "S0001                0               0         0        0  ...   \n",
       "S0002                1               0         0        0  ...   \n",
       "S0003                0               0         0        1  ...   \n",
       "S0004                1               1         0        0  ...   \n",
       "...                ...             ...       ...      ...  ...   \n",
       "S0749                0               0         0        0  ...   \n",
       "S0750                0               1         0        0  ...   \n",
       "S0751                0               0         1        0  ...   \n",
       "S0752                0               0         0        0  ...   \n",
       "S0753                1               0         0        0  ...   \n",
       "\n",
       "           3_ratio_peak_abund  3_ratio_meanstd_abund  4_ratio  \\\n",
       "sample_id                                                       \n",
       "S0000                0.024563               0.009736     28.0   \n",
       "S0001                0.033209               0.024006     16.0   \n",
       "S0002                0.294738               0.075850     16.0   \n",
       "S0003                0.260027               0.061956     28.0   \n",
       "S0004                0.238290               0.082294     16.0   \n",
       "...                       ...                    ...      ...   \n",
       "S0749                0.270481               0.187613     28.0   \n",
       "S0750                0.403334               0.152057     32.0   \n",
       "S0751                0.261788               0.143669     28.0   \n",
       "S0752                0.086638               0.051900      1.0   \n",
       "S0753                0.047573               0.025885     17.0   \n",
       "\n",
       "           4_ratio_peak_temp  4_ratio_peak_abund  4_ratio_meanstd_abund  \\\n",
       "sample_id                                                                 \n",
       "S0000                 35.420            0.010877               0.009101   \n",
       "S0001                497.404            0.093082               0.020585   \n",
       "S0002                545.304            0.040446               0.013012   \n",
       "S0003                593.222            0.081701               0.031606   \n",
       "S0004                471.733            0.084732               0.026218   \n",
       "...                      ...                 ...                    ...   \n",
       "S0749                523.057            0.130122               0.079981   \n",
       "S0750                906.311            0.158759               0.122547   \n",
       "S0751                -60.026            0.065964               0.068941   \n",
       "S0752                259.552            0.029574               0.018446   \n",
       "S0753                600.968            0.012386               0.006742   \n",
       "\n",
       "           5_ratio  5_ratio_peak_temp  5_ratio_peak_abund  \\\n",
       "sample_id                                                   \n",
       "S0000         19.0            105.458            0.006600   \n",
       "S0001         18.0            -60.370            0.030234   \n",
       "S0002          1.0            145.673            0.004003   \n",
       "S0003         16.0            593.222            0.083077   \n",
       "S0004         44.0            333.273            0.029998   \n",
       "...            ...                ...                 ...   \n",
       "S0749         16.0            228.295            0.082464   \n",
       "S0750         16.0            664.846            0.079410   \n",
       "S0751         32.0             96.019            0.032240   \n",
       "S0752         36.0            489.092            0.027185   \n",
       "S0753         28.0            566.757            0.002901   \n",
       "\n",
       "           5_ratio_meanstd_abund  \n",
       "sample_id                         \n",
       "S0000                   0.002841  \n",
       "S0001                   0.019214  \n",
       "S0002                   0.001801  \n",
       "S0003                   0.028375  \n",
       "S0004                   0.013378  \n",
       "...                          ...  \n",
       "S0749                   0.057972  \n",
       "S0750                   0.041182  \n",
       "S0751                   0.019636  \n",
       "S0752                   0.016657  \n",
       "S0753                   0.001512  \n",
       "\n",
       "[754 rows x 31 columns]"
      ]
     },
     "execution_count": 2,
     "metadata": {},
     "output_type": "execute_result"
    }
   ],
   "source": [
    "\n",
    "# Read train features\n",
    "train_aug = pd.read_csv(\"../Data/train_labels_augmented.csv\")\n",
    "train_aug.set_index(train_aug.sample_id, inplace=True)\n",
    "train_aug\n"
   ]
  },
  {
   "cell_type": "markdown",
   "metadata": {},
   "source": [
    "### I perform a train/test split on our overall training dataset and separate the predictors (columns after the ions) and the predictions (columns of ions). Then I create a KNN Classification model that takes into consideration the single closest neighbor and uses them to predict whether the ions are present."
   ]
  },
  {
   "cell_type": "code",
   "execution_count": 3,
   "metadata": {},
   "outputs": [],
   "source": [
    "# Separate inputs from outputs\n",
    "X = train_aug.iloc[:,12:]\n",
    "y = train_aug.iloc[:,1:11]\n",
    "\n",
    "X_train, X_test, y_train, y_test = train_test_split(X, y, test_size=0.2, random_state=42)\n",
    "\n",
    "scalar = StandardScaler()\n",
    "\n",
    "X_train = scalar.fit_transform(X_train)\n",
    "X_test = scalar.transform(X_test)\n",
    "\n",
    "knn = KNeighborsClassifier(n_neighbors=1)\n",
    "\n",
    "knn.fit(X_train, y_train)\n",
    "\n",
    "y_pred = knn.predict(X_test)"
   ]
  },
  {
   "cell_type": "markdown",
   "metadata": {},
   "source": [
    "### Our predictions for the test set come out as an array, so we need to put it in a dataframe and put back the column labels."
   ]
  },
  {
   "cell_type": "code",
   "execution_count": 4,
   "metadata": {},
   "outputs": [
    {
     "data": {
      "text/html": [
       "<div>\n",
       "<style scoped>\n",
       "    .dataframe tbody tr th:only-of-type {\n",
       "        vertical-align: middle;\n",
       "    }\n",
       "\n",
       "    .dataframe tbody tr th {\n",
       "        vertical-align: top;\n",
       "    }\n",
       "\n",
       "    .dataframe thead th {\n",
       "        text-align: right;\n",
       "    }\n",
       "</style>\n",
       "<table border=\"1\" class=\"dataframe\">\n",
       "  <thead>\n",
       "    <tr style=\"text-align: right;\">\n",
       "      <th></th>\n",
       "      <th>basalt</th>\n",
       "      <th>carbonate</th>\n",
       "      <th>chloride</th>\n",
       "      <th>iron_oxide</th>\n",
       "      <th>oxalate</th>\n",
       "      <th>oxychlorine</th>\n",
       "      <th>phyllosilicate</th>\n",
       "      <th>silicate</th>\n",
       "      <th>sulfate</th>\n",
       "      <th>sulfide</th>\n",
       "    </tr>\n",
       "  </thead>\n",
       "  <tbody>\n",
       "    <tr>\n",
       "      <th>0</th>\n",
       "      <td>0</td>\n",
       "      <td>0</td>\n",
       "      <td>0</td>\n",
       "      <td>0</td>\n",
       "      <td>0</td>\n",
       "      <td>0</td>\n",
       "      <td>0</td>\n",
       "      <td>1</td>\n",
       "      <td>0</td>\n",
       "      <td>0</td>\n",
       "    </tr>\n",
       "    <tr>\n",
       "      <th>1</th>\n",
       "      <td>0</td>\n",
       "      <td>0</td>\n",
       "      <td>0</td>\n",
       "      <td>0</td>\n",
       "      <td>1</td>\n",
       "      <td>0</td>\n",
       "      <td>0</td>\n",
       "      <td>0</td>\n",
       "      <td>0</td>\n",
       "      <td>0</td>\n",
       "    </tr>\n",
       "    <tr>\n",
       "      <th>2</th>\n",
       "      <td>0</td>\n",
       "      <td>0</td>\n",
       "      <td>0</td>\n",
       "      <td>0</td>\n",
       "      <td>0</td>\n",
       "      <td>0</td>\n",
       "      <td>0</td>\n",
       "      <td>0</td>\n",
       "      <td>1</td>\n",
       "      <td>0</td>\n",
       "    </tr>\n",
       "    <tr>\n",
       "      <th>3</th>\n",
       "      <td>0</td>\n",
       "      <td>0</td>\n",
       "      <td>1</td>\n",
       "      <td>0</td>\n",
       "      <td>0</td>\n",
       "      <td>0</td>\n",
       "      <td>1</td>\n",
       "      <td>0</td>\n",
       "      <td>0</td>\n",
       "      <td>0</td>\n",
       "    </tr>\n",
       "    <tr>\n",
       "      <th>4</th>\n",
       "      <td>0</td>\n",
       "      <td>0</td>\n",
       "      <td>1</td>\n",
       "      <td>0</td>\n",
       "      <td>0</td>\n",
       "      <td>0</td>\n",
       "      <td>0</td>\n",
       "      <td>0</td>\n",
       "      <td>0</td>\n",
       "      <td>0</td>\n",
       "    </tr>\n",
       "    <tr>\n",
       "      <th>...</th>\n",
       "      <td>...</td>\n",
       "      <td>...</td>\n",
       "      <td>...</td>\n",
       "      <td>...</td>\n",
       "      <td>...</td>\n",
       "      <td>...</td>\n",
       "      <td>...</td>\n",
       "      <td>...</td>\n",
       "      <td>...</td>\n",
       "      <td>...</td>\n",
       "    </tr>\n",
       "    <tr>\n",
       "      <th>146</th>\n",
       "      <td>0</td>\n",
       "      <td>0</td>\n",
       "      <td>0</td>\n",
       "      <td>0</td>\n",
       "      <td>0</td>\n",
       "      <td>1</td>\n",
       "      <td>0</td>\n",
       "      <td>0</td>\n",
       "      <td>0</td>\n",
       "      <td>1</td>\n",
       "    </tr>\n",
       "    <tr>\n",
       "      <th>147</th>\n",
       "      <td>0</td>\n",
       "      <td>0</td>\n",
       "      <td>0</td>\n",
       "      <td>0</td>\n",
       "      <td>0</td>\n",
       "      <td>0</td>\n",
       "      <td>1</td>\n",
       "      <td>0</td>\n",
       "      <td>0</td>\n",
       "      <td>0</td>\n",
       "    </tr>\n",
       "    <tr>\n",
       "      <th>148</th>\n",
       "      <td>0</td>\n",
       "      <td>0</td>\n",
       "      <td>0</td>\n",
       "      <td>0</td>\n",
       "      <td>0</td>\n",
       "      <td>1</td>\n",
       "      <td>0</td>\n",
       "      <td>0</td>\n",
       "      <td>0</td>\n",
       "      <td>0</td>\n",
       "    </tr>\n",
       "    <tr>\n",
       "      <th>149</th>\n",
       "      <td>0</td>\n",
       "      <td>0</td>\n",
       "      <td>0</td>\n",
       "      <td>0</td>\n",
       "      <td>0</td>\n",
       "      <td>0</td>\n",
       "      <td>0</td>\n",
       "      <td>0</td>\n",
       "      <td>0</td>\n",
       "      <td>0</td>\n",
       "    </tr>\n",
       "    <tr>\n",
       "      <th>150</th>\n",
       "      <td>0</td>\n",
       "      <td>0</td>\n",
       "      <td>1</td>\n",
       "      <td>0</td>\n",
       "      <td>0</td>\n",
       "      <td>0</td>\n",
       "      <td>0</td>\n",
       "      <td>0</td>\n",
       "      <td>0</td>\n",
       "      <td>0</td>\n",
       "    </tr>\n",
       "  </tbody>\n",
       "</table>\n",
       "<p>151 rows × 10 columns</p>\n",
       "</div>"
      ],
      "text/plain": [
       "     basalt  carbonate  chloride  iron_oxide  oxalate  oxychlorine  \\\n",
       "0         0          0         0           0        0            0   \n",
       "1         0          0         0           0        1            0   \n",
       "2         0          0         0           0        0            0   \n",
       "3         0          0         1           0        0            0   \n",
       "4         0          0         1           0        0            0   \n",
       "..      ...        ...       ...         ...      ...          ...   \n",
       "146       0          0         0           0        0            1   \n",
       "147       0          0         0           0        0            0   \n",
       "148       0          0         0           0        0            1   \n",
       "149       0          0         0           0        0            0   \n",
       "150       0          0         1           0        0            0   \n",
       "\n",
       "     phyllosilicate  silicate  sulfate  sulfide  \n",
       "0                 0         1        0        0  \n",
       "1                 0         0        0        0  \n",
       "2                 0         0        1        0  \n",
       "3                 1         0        0        0  \n",
       "4                 0         0        0        0  \n",
       "..              ...       ...      ...      ...  \n",
       "146               0         0        0        1  \n",
       "147               1         0        0        0  \n",
       "148               0         0        0        0  \n",
       "149               0         0        0        0  \n",
       "150               0         0        0        0  \n",
       "\n",
       "[151 rows x 10 columns]"
      ]
     },
     "execution_count": 4,
     "metadata": {},
     "output_type": "execute_result"
    }
   ],
   "source": [
    "y_pred_df=pd.DataFrame(y_pred, columns=['basalt','carbonate','chloride','iron_oxide','oxalate','oxychlorine','phyllosilicate','silicate','sulfate','sulfide'])\n",
    "y_pred_df"
   ]
  },
  {
   "cell_type": "markdown",
   "metadata": {},
   "source": [
    "### Comparing what we got with what we expected to get."
   ]
  },
  {
   "cell_type": "code",
   "execution_count": 5,
   "metadata": {},
   "outputs": [
    {
     "data": {
      "text/html": [
       "<div>\n",
       "<style scoped>\n",
       "    .dataframe tbody tr th:only-of-type {\n",
       "        vertical-align: middle;\n",
       "    }\n",
       "\n",
       "    .dataframe tbody tr th {\n",
       "        vertical-align: top;\n",
       "    }\n",
       "\n",
       "    .dataframe thead th {\n",
       "        text-align: right;\n",
       "    }\n",
       "</style>\n",
       "<table border=\"1\" class=\"dataframe\">\n",
       "  <thead>\n",
       "    <tr style=\"text-align: right;\">\n",
       "      <th></th>\n",
       "      <th>basalt</th>\n",
       "      <th>carbonate</th>\n",
       "      <th>chloride</th>\n",
       "      <th>iron_oxide</th>\n",
       "      <th>oxalate</th>\n",
       "      <th>oxychlorine</th>\n",
       "      <th>phyllosilicate</th>\n",
       "      <th>silicate</th>\n",
       "      <th>sulfate</th>\n",
       "      <th>sulfide</th>\n",
       "    </tr>\n",
       "    <tr>\n",
       "      <th>sample_id</th>\n",
       "      <th></th>\n",
       "      <th></th>\n",
       "      <th></th>\n",
       "      <th></th>\n",
       "      <th></th>\n",
       "      <th></th>\n",
       "      <th></th>\n",
       "      <th></th>\n",
       "      <th></th>\n",
       "      <th></th>\n",
       "    </tr>\n",
       "  </thead>\n",
       "  <tbody>\n",
       "    <tr>\n",
       "      <th>S0587</th>\n",
       "      <td>0</td>\n",
       "      <td>0</td>\n",
       "      <td>0</td>\n",
       "      <td>0</td>\n",
       "      <td>0</td>\n",
       "      <td>0</td>\n",
       "      <td>0</td>\n",
       "      <td>0</td>\n",
       "      <td>0</td>\n",
       "      <td>0</td>\n",
       "    </tr>\n",
       "    <tr>\n",
       "      <th>S0259</th>\n",
       "      <td>0</td>\n",
       "      <td>0</td>\n",
       "      <td>0</td>\n",
       "      <td>0</td>\n",
       "      <td>1</td>\n",
       "      <td>0</td>\n",
       "      <td>0</td>\n",
       "      <td>0</td>\n",
       "      <td>0</td>\n",
       "      <td>0</td>\n",
       "    </tr>\n",
       "    <tr>\n",
       "      <th>S0653</th>\n",
       "      <td>1</td>\n",
       "      <td>1</td>\n",
       "      <td>0</td>\n",
       "      <td>1</td>\n",
       "      <td>0</td>\n",
       "      <td>1</td>\n",
       "      <td>1</td>\n",
       "      <td>1</td>\n",
       "      <td>1</td>\n",
       "      <td>0</td>\n",
       "    </tr>\n",
       "    <tr>\n",
       "      <th>S0077</th>\n",
       "      <td>0</td>\n",
       "      <td>0</td>\n",
       "      <td>1</td>\n",
       "      <td>0</td>\n",
       "      <td>0</td>\n",
       "      <td>0</td>\n",
       "      <td>1</td>\n",
       "      <td>0</td>\n",
       "      <td>0</td>\n",
       "      <td>0</td>\n",
       "    </tr>\n",
       "    <tr>\n",
       "      <th>S0213</th>\n",
       "      <td>0</td>\n",
       "      <td>0</td>\n",
       "      <td>0</td>\n",
       "      <td>0</td>\n",
       "      <td>0</td>\n",
       "      <td>0</td>\n",
       "      <td>1</td>\n",
       "      <td>0</td>\n",
       "      <td>0</td>\n",
       "      <td>1</td>\n",
       "    </tr>\n",
       "    <tr>\n",
       "      <th>...</th>\n",
       "      <td>...</td>\n",
       "      <td>...</td>\n",
       "      <td>...</td>\n",
       "      <td>...</td>\n",
       "      <td>...</td>\n",
       "      <td>...</td>\n",
       "      <td>...</td>\n",
       "      <td>...</td>\n",
       "      <td>...</td>\n",
       "      <td>...</td>\n",
       "    </tr>\n",
       "    <tr>\n",
       "      <th>S0593</th>\n",
       "      <td>0</td>\n",
       "      <td>0</td>\n",
       "      <td>0</td>\n",
       "      <td>0</td>\n",
       "      <td>0</td>\n",
       "      <td>1</td>\n",
       "      <td>0</td>\n",
       "      <td>0</td>\n",
       "      <td>0</td>\n",
       "      <td>1</td>\n",
       "    </tr>\n",
       "    <tr>\n",
       "      <th>S0090</th>\n",
       "      <td>0</td>\n",
       "      <td>0</td>\n",
       "      <td>0</td>\n",
       "      <td>0</td>\n",
       "      <td>0</td>\n",
       "      <td>0</td>\n",
       "      <td>1</td>\n",
       "      <td>0</td>\n",
       "      <td>0</td>\n",
       "      <td>0</td>\n",
       "    </tr>\n",
       "    <tr>\n",
       "      <th>S0357</th>\n",
       "      <td>0</td>\n",
       "      <td>0</td>\n",
       "      <td>0</td>\n",
       "      <td>0</td>\n",
       "      <td>0</td>\n",
       "      <td>1</td>\n",
       "      <td>0</td>\n",
       "      <td>0</td>\n",
       "      <td>0</td>\n",
       "      <td>0</td>\n",
       "    </tr>\n",
       "    <tr>\n",
       "      <th>S0208</th>\n",
       "      <td>1</td>\n",
       "      <td>1</td>\n",
       "      <td>0</td>\n",
       "      <td>1</td>\n",
       "      <td>0</td>\n",
       "      <td>1</td>\n",
       "      <td>1</td>\n",
       "      <td>1</td>\n",
       "      <td>1</td>\n",
       "      <td>0</td>\n",
       "    </tr>\n",
       "    <tr>\n",
       "      <th>S0069</th>\n",
       "      <td>0</td>\n",
       "      <td>0</td>\n",
       "      <td>0</td>\n",
       "      <td>1</td>\n",
       "      <td>0</td>\n",
       "      <td>1</td>\n",
       "      <td>0</td>\n",
       "      <td>0</td>\n",
       "      <td>0</td>\n",
       "      <td>0</td>\n",
       "    </tr>\n",
       "  </tbody>\n",
       "</table>\n",
       "<p>151 rows × 10 columns</p>\n",
       "</div>"
      ],
      "text/plain": [
       "           basalt  carbonate  chloride  iron_oxide  oxalate  oxychlorine  \\\n",
       "sample_id                                                                  \n",
       "S0587           0          0         0           0        0            0   \n",
       "S0259           0          0         0           0        1            0   \n",
       "S0653           1          1         0           1        0            1   \n",
       "S0077           0          0         1           0        0            0   \n",
       "S0213           0          0         0           0        0            0   \n",
       "...           ...        ...       ...         ...      ...          ...   \n",
       "S0593           0          0         0           0        0            1   \n",
       "S0090           0          0         0           0        0            0   \n",
       "S0357           0          0         0           0        0            1   \n",
       "S0208           1          1         0           1        0            1   \n",
       "S0069           0          0         0           1        0            1   \n",
       "\n",
       "           phyllosilicate  silicate  sulfate  sulfide  \n",
       "sample_id                                              \n",
       "S0587                   0         0        0        0  \n",
       "S0259                   0         0        0        0  \n",
       "S0653                   1         1        1        0  \n",
       "S0077                   1         0        0        0  \n",
       "S0213                   1         0        0        1  \n",
       "...                   ...       ...      ...      ...  \n",
       "S0593                   0         0        0        1  \n",
       "S0090                   1         0        0        0  \n",
       "S0357                   0         0        0        0  \n",
       "S0208                   1         1        1        0  \n",
       "S0069                   0         0        0        0  \n",
       "\n",
       "[151 rows x 10 columns]"
      ]
     },
     "execution_count": 5,
     "metadata": {},
     "output_type": "execute_result"
    }
   ],
   "source": [
    "y_test"
   ]
  },
  {
   "cell_type": "markdown",
   "metadata": {},
   "source": [
    "### We can see how many rows of our predictions were identical to the corresponding row of our expectation."
   ]
  },
  {
   "cell_type": "code",
   "execution_count": 6,
   "metadata": {},
   "outputs": [],
   "source": [
    "count=0\n",
    "for i in range(len(y_test)-1):\n",
    "    if y_test.iloc[i].equals(y_pred_df.iloc[i]):\n",
    "        count=count+1"
   ]
  },
  {
   "cell_type": "markdown",
   "metadata": {},
   "source": [
    "### Next we calculate the percent accuracy for each sample. (Just check whether we got all columns correct for each sample using this model.)"
   ]
  },
  {
   "cell_type": "code",
   "execution_count": 7,
   "metadata": {},
   "outputs": [
    {
     "data": {
      "text/plain": [
       "49.00662251655629"
      ]
     },
     "execution_count": 7,
     "metadata": {},
     "output_type": "execute_result"
    }
   ],
   "source": [
    "count/len(y_test)*100"
   ]
  },
  {
   "cell_type": "markdown",
   "metadata": {},
   "source": [
    "### 49% accuracy is not great, but that's for the entire row being correct. Let's try to examine how good this model is for the presence of each ion separately."
   ]
  },
  {
   "cell_type": "markdown",
   "metadata": {},
   "source": [
    "#### Basalt:"
   ]
  },
  {
   "cell_type": "code",
   "execution_count": 8,
   "metadata": {},
   "outputs": [
    {
     "data": {
      "text/plain": [
       "86.09271523178808"
      ]
     },
     "execution_count": 8,
     "metadata": {},
     "output_type": "execute_result"
    }
   ],
   "source": [
    "basaltcount=0\n",
    "for i in range(len(y_test)-1):\n",
    "    if y_test.basalt[i]==(y_pred_df.basalt[i]):\n",
    "        basaltcount=basaltcount+1\n",
    "basalt = basaltcount/len(y_test)*100\n",
    "basalt"
   ]
  },
  {
   "cell_type": "markdown",
   "metadata": {},
   "source": [
    "#### Carbonate"
   ]
  },
  {
   "cell_type": "code",
   "execution_count": 9,
   "metadata": {},
   "outputs": [
    {
     "data": {
      "text/plain": [
       "90.06622516556291"
      ]
     },
     "execution_count": 9,
     "metadata": {},
     "output_type": "execute_result"
    }
   ],
   "source": [
    "carbonatecount=0\n",
    "for i in range(len(y_test)-1):\n",
    "    if y_test.carbonate[i]==(y_pred_df.carbonate[i]):\n",
    "        carbonatecount=carbonatecount+1\n",
    "carbonate = carbonatecount/len(y_test)*100\n",
    "carbonate"
   ]
  },
  {
   "cell_type": "markdown",
   "metadata": {},
   "source": [
    "#### Chloride"
   ]
  },
  {
   "cell_type": "code",
   "execution_count": 10,
   "metadata": {},
   "outputs": [
    {
     "data": {
      "text/plain": [
       "86.09271523178808"
      ]
     },
     "execution_count": 10,
     "metadata": {},
     "output_type": "execute_result"
    }
   ],
   "source": [
    "chloridecount=0\n",
    "for i in range(len(y_test)-1):\n",
    "    if y_test.chloride[i]==(y_pred_df.chloride[i]):\n",
    "        chloridecount=chloridecount+1\n",
    "chloride = chloridecount/len(y_test)*100\n",
    "chloride"
   ]
  },
  {
   "cell_type": "markdown",
   "metadata": {},
   "source": [
    "#### Iron Oxide"
   ]
  },
  {
   "cell_type": "code",
   "execution_count": 11,
   "metadata": {},
   "outputs": [
    {
     "data": {
      "text/plain": [
       "82.78145695364239"
      ]
     },
     "execution_count": 11,
     "metadata": {},
     "output_type": "execute_result"
    }
   ],
   "source": [
    "IOcount=0\n",
    "for i in range(len(y_test)-1):\n",
    "    if y_test.iron_oxide[i]==(y_pred_df.iron_oxide[i]):\n",
    "        IOcount=IOcount+1\n",
    "ironoxide = IOcount/len(y_test)*100\n",
    "ironoxide"
   ]
  },
  {
   "cell_type": "markdown",
   "metadata": {},
   "source": [
    "#### Oxalate"
   ]
  },
  {
   "cell_type": "code",
   "execution_count": 12,
   "metadata": {},
   "outputs": [
    {
     "data": {
      "text/plain": [
       "98.67549668874173"
      ]
     },
     "execution_count": 12,
     "metadata": {},
     "output_type": "execute_result"
    }
   ],
   "source": [
    "Oxcount=0\n",
    "for i in range(len(y_test)-1):\n",
    "    if y_test.oxalate[i]==(y_pred_df.oxalate[i]):\n",
    "        Oxcount=Oxcount+1\n",
    "oxalate = Oxcount/len(y_test)*100\n",
    "oxalate"
   ]
  },
  {
   "cell_type": "markdown",
   "metadata": {},
   "source": [
    "#### Oxychlorine"
   ]
  },
  {
   "cell_type": "code",
   "execution_count": 13,
   "metadata": {},
   "outputs": [
    {
     "data": {
      "text/plain": [
       "84.10596026490066"
      ]
     },
     "execution_count": 13,
     "metadata": {},
     "output_type": "execute_result"
    }
   ],
   "source": [
    "Oxycount=0\n",
    "for i in range(len(y_test)-1):\n",
    "    if y_test.oxychlorine[i]==(y_pred_df.oxychlorine[i]):\n",
    "        Oxycount=Oxycount+1\n",
    "oxychlorine = Oxycount/len(y_test)*100\n",
    "oxychlorine"
   ]
  },
  {
   "cell_type": "markdown",
   "metadata": {},
   "source": [
    "#### Phyllosilicate"
   ]
  },
  {
   "cell_type": "code",
   "execution_count": 14,
   "metadata": {},
   "outputs": [
    {
     "data": {
      "text/plain": [
       "76.15894039735099"
      ]
     },
     "execution_count": 14,
     "metadata": {},
     "output_type": "execute_result"
    }
   ],
   "source": [
    "Phycount=0\n",
    "for i in range(len(y_test)-1):\n",
    "    if y_test.phyllosilicate[i]==(y_pred_df.phyllosilicate[i]):\n",
    "        Phycount=Phycount+1\n",
    "phyllosilicate = Phycount/len(y_test)*100\n",
    "phyllosilicate"
   ]
  },
  {
   "cell_type": "markdown",
   "metadata": {},
   "source": [
    "#### Silicate"
   ]
  },
  {
   "cell_type": "code",
   "execution_count": 15,
   "metadata": {},
   "outputs": [
    {
     "data": {
      "text/plain": [
       "84.76821192052981"
      ]
     },
     "execution_count": 15,
     "metadata": {},
     "output_type": "execute_result"
    }
   ],
   "source": [
    "Silcount=0\n",
    "for i in range(len(y_test)-1):\n",
    "    if y_test.silicate[i]==(y_pred_df.silicate[i]):\n",
    "        Silcount=Silcount+1\n",
    "silicate = Silcount/len(y_test)*100\n",
    "silicate"
   ]
  },
  {
   "cell_type": "markdown",
   "metadata": {},
   "source": [
    "#### Sulfate"
   ]
  },
  {
   "cell_type": "code",
   "execution_count": 16,
   "metadata": {},
   "outputs": [
    {
     "data": {
      "text/plain": [
       "87.41721854304636"
      ]
     },
     "execution_count": 16,
     "metadata": {},
     "output_type": "execute_result"
    }
   ],
   "source": [
    "Sulfatecount=0\n",
    "for i in range(len(y_test)-1):\n",
    "    if y_test.sulfate[i]==(y_pred_df.sulfate[i]):\n",
    "        Sulfatecount=Sulfatecount+1\n",
    "sulfate = Sulfatecount/len(y_test)*100\n",
    "sulfate"
   ]
  },
  {
   "cell_type": "markdown",
   "metadata": {},
   "source": [
    "#### Sulfide"
   ]
  },
  {
   "cell_type": "code",
   "execution_count": 17,
   "metadata": {},
   "outputs": [
    {
     "data": {
      "text/plain": [
       "96.02649006622516"
      ]
     },
     "execution_count": 17,
     "metadata": {},
     "output_type": "execute_result"
    }
   ],
   "source": [
    "Sulfidecount=0\n",
    "for i in range(len(y_test)-1):\n",
    "    if y_test.sulfide[i]==(y_pred_df.sulfide[i]):\n",
    "        Sulfidecount=Sulfidecount+1\n",
    "sulfide = Sulfidecount/len(y_test)*100\n",
    "sulfide"
   ]
  },
  {
   "cell_type": "markdown",
   "metadata": {},
   "source": [
    "### Now the average of these percent accuracies is slightly better."
   ]
  },
  {
   "cell_type": "code",
   "execution_count": 18,
   "metadata": {},
   "outputs": [
    {
     "data": {
      "text/plain": [
       "87.21854304635761"
      ]
     },
     "execution_count": 18,
     "metadata": {},
     "output_type": "execute_result"
    }
   ],
   "source": [
    "(basalt + carbonate + chloride + ironoxide + oxalate + oxychlorine + phyllosilicate + silicate + sulfate + sulfide)/10"
   ]
  },
  {
   "cell_type": "markdown",
   "metadata": {},
   "source": [
    "### This is worse than 2 or 3 neighbors."
   ]
  },
  {
   "cell_type": "code",
   "execution_count": 19,
   "metadata": {},
   "outputs": [
    {
     "data": {
      "text/plain": [
       "0.20282279142707788"
      ]
     },
     "execution_count": 19,
     "metadata": {},
     "output_type": "execute_result"
    }
   ],
   "source": [
    "y_true = train_aug.iloc[:,1:11]\n",
    "y_true_train=y_true.iloc[0:603,:]\n",
    "y_pred_train = knn.predict(X_train)\n",
    "y_pred_train_df=pd.DataFrame(y_pred_train, columns=['basalt','carbonate','chloride','iron_oxide','oxalate','oxychlorine','phyllosilicate','silicate','sulfate','sulfide'])\n",
    "from sklearn.metrics import f1_score\n",
    "f1_micro = f1_score(y_true_train, y_pred_train_df, average='micro')\n",
    "f1_micro"
   ]
  }
 ],
 "metadata": {
  "kernelspec": {
   "display_name": "Python 3",
   "language": "python",
   "name": "python3"
  },
  "language_info": {
   "codemirror_mode": {
    "name": "ipython",
    "version": 3
   },
   "file_extension": ".py",
   "mimetype": "text/x-python",
   "name": "python",
   "nbconvert_exporter": "python",
   "pygments_lexer": "ipython3",
   "version": "3.12.1"
  }
 },
 "nbformat": 4,
 "nbformat_minor": 2
}
